{
 "cells": [
  {
   "cell_type": "code",
   "execution_count": 4,
   "metadata": {},
   "outputs": [
    {
     "data": {
      "text/plain": [
       "Conv2d(1, 1, kernel_size=(11, 11), stride=(4, 4))"
      ]
     },
     "execution_count": 4,
     "metadata": {},
     "output_type": "execute_result"
    }
   ],
   "source": [
    "import torch\n",
    "import torch.nn as nn\n",
    "# 기본값 : torch.nn.Conv2d(in_channesls, out_channels, kernel_size, stride=1, padding=0, bias=True)\n",
    "conv = nn.Conv2d(in_channels=1, out_channels=1, kernel_size=11, stride=4,padding=0)\n",
    "conv"
   ]
  },
  {
   "cell_type": "code",
   "execution_count": 6,
   "metadata": {},
   "outputs": [
    {
     "name": "stdout",
     "output_type": "stream",
     "text": [
      "tensor([[[[-0.0629, -0.0629, -0.0629,  ..., -0.0629, -0.0629, -0.0629],\n",
      "          [-0.0629, -0.0629, -0.0629,  ..., -0.0629, -0.0629, -0.0629],\n",
      "          [-0.0629, -0.0629, -0.0629,  ..., -0.0629, -0.0629, -0.0629],\n",
      "          ...,\n",
      "          [-0.0629, -0.0629, -0.0629,  ..., -0.0629, -0.0629, -0.0629],\n",
      "          [-0.0629, -0.0629, -0.0629,  ..., -0.0629, -0.0629, -0.0629],\n",
      "          [-0.0629, -0.0629, -0.0629,  ..., -0.0629, -0.0629, -0.0629]]]],\n",
      "       grad_fn=<ConvolutionBackward0>)\n"
     ]
    },
    {
     "data": {
      "text/plain": [
       "torch.Size([1, 1, 55, 55])"
      ]
     },
     "execution_count": 6,
     "metadata": {},
     "output_type": "execute_result"
    }
   ],
   "source": [
    "inputs = torch.Tensor(1,1,227,227)\n",
    "outputs = conv(inputs)\n",
    "print(outputs)\n",
    "outputs.shape"
   ]
  },
  {
   "cell_type": "code",
   "execution_count": 8,
   "metadata": {},
   "outputs": [
    {
     "name": "stdout",
     "output_type": "stream",
     "text": [
      "Conv2d(1, 1, kernel_size=(7, 7), stride=(2, 2))\n",
      "tensor([[[[-3.8204e+15,  1.7347e+16, -3.1858e+17, -1.2590e+18, -1.4111e+18,\n",
      "           -2.3775e+18, -2.5287e+17, -4.3708e+17, -3.1973e+17, -1.2589e+18,\n",
      "                   nan,         nan,         nan,         nan,  1.3815e+16,\n",
      "            1.5305e+17, -2.1889e+18, -2.7325e+16,  1.1163e+16,  8.1676e+15,\n",
      "            1.7906e+18, -4.3861e+15,  1.7214e+17, -2.2069e+18,  2.1489e+07,\n",
      "            2.9034e+06, -5.7707e+06,  7.6285e+05,  1.3649e+27],\n",
      "          [ 3.0685e+07, -2.9959e+06, -1.8290e+17,  2.9497e+18, -3.6334e+17,\n",
      "            2.9248e+17, -6.7773e+16, -6.7139e+16, -1.8290e+17,  2.9497e+18,\n",
      "                   nan,         nan,         nan,         nan, -1.2336e+18,\n",
      "           -1.3564e+18, -2.1096e+18, -4.3236e+15,  3.0222e+19,  1.2112e+19,\n",
      "            1.2362e+19, -1.2423e+18, -1.3165e+18, -2.1095e+18, -1.4573e+16,\n",
      "            1.7986e+18, -4.2638e+15,  1.7209e+17, -1.4266e+26],\n",
      "          [ 1.4564e+09, -5.5366e+08,  2.7139e+18,  1.3981e+18, -1.9852e+18,\n",
      "            1.2249e+18,  5.9235e+21,  2.3709e+21,  2.4864e+21,  1.3981e+18,\n",
      "                   nan,         nan,         nan,         nan,  1.3649e+27,\n",
      "            5.4619e+26,  5.7222e+26, -4.0952e+15, -3.1793e+18,  3.1337e+19,\n",
      "            5.9713e+20,  1.8818e+21, -4.0079e+21, -3.2651e+17, -2.2650e+16,\n",
      "           -3.0954e+17, -1.2423e+18, -1.3406e+18, -1.2930e+27],\n",
      "          [-8.7599e+08, -2.5242e+08, -2.6676e+15, -1.0402e+16, -1.1225e+16,\n",
      "           -1.7588e+16, -6.1919e+20,  6.1330e+21,  7.3240e+21, -1.0402e+16,\n",
      "           -2.4525e+21,  7.3697e+21,  3.4705e+21,  2.6989e+18, -1.4266e+26,\n",
      "            1.4130e+27,  1.6874e+27, -1.8478e+16, -2.8653e+19,  1.4552e+19,\n",
      "           -5.9491e+21,  5.1176e+20,  7.2104e+21,  9.2952e+17, -1.8065e+16,\n",
      "           -1.5763e+17,  5.8949e+21,  2.3575e+21,  2.4699e+21],\n",
      "          [-9.8232e+08, -2.3163e+08, -1.5315e+15,  2.4698e+16, -2.7232e+15,\n",
      "           -2.6978e+15, -5.6122e+21,  2.8502e+21,  5.4736e+21,  2.3579e+21,\n",
      "            2.4703e+21, -2.6978e+15, -8.4713e+13, -2.4557e+13, -1.2930e+27,\n",
      "            6.5668e+26, -9.6406e+25, -1.7451e+16, -5.0723e+13, -8.2775e+13,\n",
      "           -2.0245e+21, -6.6491e+21,  5.8695e+21,  1.7971e+21, -3.8332e+21,\n",
      "            2.6923e+18, -6.1443e+20,  1.1957e+22,  9.6301e+21],\n",
      "          [ 1.0557e+16, -8.9304e+15,  8.0252e+15,  1.9745e+16, -2.1344e+16,\n",
      "            7.9721e+15, -2.1650e+08, -1.0734e+09, -6.1582e+20,  6.0999e+21,\n",
      "            7.2844e+21,  7.9721e+15, -9.5266e+13, -2.3260e+13, -1.6341e+15,\n",
      "            2.4842e+16, -2.7232e+15, -2.7824e+15, -2.4557e+13,  1.7904e+18,\n",
      "           -2.5352e+21,  7.6185e+21, -2.1056e+21,  4.8816e+20,  6.9011e+21,\n",
      "           -7.4498e+15, -5.5816e+21,  2.2201e+21,  5.6503e+21],\n",
      "          [-1.0944e+18, -1.7448e+18,  9.3735e+17,  2.0090e+16,  2.8870e+18,\n",
      "            5.4062e+20,  1.8159e+21, -3.8761e+21, -5.5818e+21,  2.8348e+21,\n",
      "            5.5734e+21,  2.3969e+21,  2.5112e+21, -8.9568e+08,  2.2598e+16,\n",
      "            1.1706e+16, -2.1343e+16,  7.8767e+15, -2.3261e+13, -3.1869e+17,\n",
      "           -1.2195e+18, -1.3289e+18, -1.9386e+21, -6.3599e+21,  5.1017e+21,\n",
      "           -1.2454e+18, -1.3554e+18, -5.5534e+21,  2.8193e+21],\n",
      "          [-5.3513e+17, -2.7092e+18,  1.0618e+18,  2.3310e+16, -1.7889e+18,\n",
      "           -5.7564e+21,  1.0418e+21,  8.8272e+21, -3.9418e+21, -7.6648e+15,\n",
      "           -6.2604e+20,  6.2008e+21,  7.4050e+21, -1.3449e+09,  5.1090e+15,\n",
      "           -1.8874e+15, -3.0801e+15,  1.6988e+15, -1.3173e+09, -1.8290e+17,\n",
      "            2.9548e+18, -3.2712e+17, -2.4253e+21,  7.2870e+21,  3.4313e+21,\n",
      "            2.9495e+18, -2.9747e+17, -3.1237e+17,  7.0391e+21],\n",
      "          [-4.8321e+17, -2.1576e+18,  3.0187e+18, -1.1285e+15, -1.9850e+18,\n",
      "           -1.9590e+21, -1.2287e+22,  5.6653e+21,  7.0946e+21,  1.8192e+16,\n",
      "           -5.6743e+21,  2.8818e+21, -4.2307e+20,  1.6988e+15, -3.1522e+15,\n",
      "           -9.1379e+14, -4.6503e+15,  1.8605e+15, -8.2418e+13,  2.6990e+18,\n",
      "            1.3949e+18, -2.5500e+18,  9.4730e+17,  1.9525e+15,  2.6988e+18,\n",
      "            1.3979e+18, -2.5520e+18,  9.5117e+17, -4.3402e+21],\n",
      "          [ 1.9555e+07, -1.4456e+07,  5.8594e+21,  2.3448e+21,  2.4566e+21,\n",
      "           -2.4526e+21,  5.3789e+21, -3.0693e+21,  5.2464e+21,  9.5695e+15,\n",
      "           -2.1260e+16,  1.5454e+15, -8.6590e+15,  1.9110e+15, -3.5449e+15,\n",
      "           -8.6551e+14, -3.9025e+15,  5.3176e+15, -1.2809e+14,  5.1135e+13,\n",
      "           -3.5449e+15,  5.8267e+21,  2.3317e+21,  2.4429e+21, -2.4451e+13,\n",
      "            2.3541e+16, -1.2238e+16, -1.5135e+16, -4.8859e+21],\n",
      "          [ 4.1086e+07, -2.7049e+07, -6.1243e+20,  1.1795e+22,  9.5368e+21,\n",
      "            2.4020e+21, -2.4936e+21,  7.4933e+21,  3.5287e+21,  4.6609e+15,\n",
      "           -6.3000e+15,  1.2775e+15, -9.3748e+15,  2.2883e+15,  1.6843e+15,\n",
      "            3.1416e+15, -1.0233e+14,  5.5379e+20,  1.8582e+21, -3.9636e+21,\n",
      "            1.6843e+15, -6.0902e+20,  6.0323e+21,  7.2037e+21, -2.3159e+13,\n",
      "           -1.4706e+16, -4.0906e+15, -2.2178e+16, -1.9943e+18],\n",
      "          [ 1.7971e+21, -3.8332e+21, -5.5509e+21,  2.2203e+21,  5.5176e+21,\n",
      "            7.0833e+21, -2.6415e+15,  3.8349e+16, -4.0031e+15, -1.0706e+16,\n",
      "           -9.5584e+15, -2.0110e+15, -1.4713e+15,  1.8923e+16, -6.8496e+15,\n",
      "           -1.4829e+16,  5.6910e+15, -5.8844e+21,  5.0476e+20,  7.1340e+21,\n",
      "           -6.8496e+15, -5.5200e+21,  2.8034e+21, -4.1157e+20, -5.7760e+06,\n",
      "           -1.6423e+16, -4.0098e+15, -1.7689e+16,  2.4749e+16],\n",
      "          [ 4.8816e+20,  6.8992e+21, -1.0185e+16, -5.4277e+21,  2.7565e+21,\n",
      "            5.5193e+21,  2.3707e+21,  2.4837e+21, -1.4418e+16, -4.7642e+15,\n",
      "           -1.4659e+16, -2.2257e+16,  8.6829e+15, -1.8389e+16,  1.0628e+15,\n",
      "           -1.7433e+16,  1.2158e+16, -2.0023e+21, -6.5762e+21,  5.8201e+21,\n",
      "            1.8275e+21, -3.8982e+21,  8.8536e+15,  1.9618e+07,  6.5861e+06,\n",
      "            2.0976e+07,  6.5394e+06,  2.3669e+16, -8.7443e+15],\n",
      "          [-6.3598e+21,  5.1019e+21,  2.4183e+16,  2.9957e+16,  2.9904e+16,\n",
      "           -6.1918e+20,  1.2123e+22,  9.7209e+21,  2.5113e+21, -3.4961e+16,\n",
      "            4.4891e+21, -1.0713e+19,  4.3146e+20, -5.5329e+21,  6.0221e+21,\n",
      "            2.4099e+21,  2.5248e+21, -2.5074e+21,  7.5348e+21, -2.2391e+21,\n",
      "            1.0350e+21,  8.8234e+21, -3.8548e+21, -4.8148e+14, -7.8572e+14,\n",
      "            4.3337e+14,  8.4791e+13, -1.4604e+16, -2.9221e+15],\n",
      "          [ 7.2868e+21,  3.4315e+21,  5.5075e+20,  1.8480e+21, -3.9419e+21,\n",
      "           -5.6122e+21,  2.2241e+21,  5.7827e+21,  7.4053e+21, -3.8002e+16,\n",
      "           -7.9872e+20, -3.1145e+21, -3.3611e+21, -5.2662e+21, -6.2942e+20,\n",
      "            6.2345e+21,  7.4452e+21, -2.2264e+16,  5.2963e+15, -1.9692e+21,\n",
      "           -1.2191e+22,  5.6793e+21,  6.9382e+21, -2.3311e+14, -1.2211e+15,\n",
      "            4.8750e+14, -1.5086e+13, -1.6482e+16, -4.8774e+15],\n",
      "          [-8.5452e+13, -2.4772e+13, -5.8521e+21,  5.0199e+20,  7.0948e+21,\n",
      "            4.7817e+16, -5.6745e+21,  2.8819e+21, -4.2307e+20, -9.2355e+15,\n",
      "           -4.5856e+20,  7.3951e+21, -8.1539e+20, -8.0776e+20, -5.7051e+21,\n",
      "            2.8974e+21,  5.4336e+21,  2.3446e+21,  2.4564e+21, -2.4660e+21,\n",
      "            5.4630e+21, -2.9061e+21,  5.1307e+21, -2.2079e+14, -9.7399e+14,\n",
      "            1.3627e+15, -8.6612e+12,  1.3968e+14, -9.1970e+14],\n",
      "          [ 2.4155e+21, -2.3463e+13, -1.9913e+21, -6.5401e+21,  5.7883e+21,\n",
      "            1.8174e+21, -3.8767e+21,  1.7251e+16,  1.2262e+16,  1.4788e+16,\n",
      "            6.7664e+21,  3.5051e+21, -6.3907e+21,  2.3870e+21,  1.1067e+16,\n",
      "            1.4260e+16, -6.1240e+20,  6.0656e+21,  7.2436e+21, -2.3066e+07,\n",
      "           -2.4386e+21,  7.3280e+21,  3.4508e+21, -1.0416e+07,  4.4320e+07,\n",
      "           -4.3731e+06,  1.2781e+14,  6.6206e+13, -1.2071e+14],\n",
      "          [ 7.1230e+21, -1.0416e+07, -2.4936e+21,  7.4934e+21, -2.2266e+21,\n",
      "            4.9370e+20,  6.9775e+21, -1.0415e+07,  3.3616e+16,  2.5777e+16,\n",
      "           -3.4029e+16, -3.1449e+16,  3.2420e+07, -1.2909e+07,  3.3616e+16,\n",
      "            2.5777e+16, -5.5506e+21,  2.8189e+21,  5.4450e+21,  2.3446e+21,\n",
      "            2.4564e+21, -2.6313e+07,  3.2657e+07, -1.0416e+07,  3.2657e+07,\n",
      "           -1.0416e+07,  3.2657e+07, -1.0417e+07,  3.2657e+07],\n",
      "          [ 5.3230e+21,  2.2930e+21,  2.4023e+21,  8.4791e+13, -1.9584e+21,\n",
      "           -6.4320e+21,  5.1598e+21, -1.9975e+07,  1.8323e+16,  2.6348e+16,\n",
      "           -3.5546e+16, -1.2675e+16, -1.0451e+14, -2.5389e+07,  1.8323e+16,\n",
      "            2.6348e+16, -3.5546e+16, -1.2675e+16, -6.1238e+20,  6.0656e+21,\n",
      "            7.2434e+21, -4.2403e+07,  4.5771e+07, -3.3415e+07,  6.3642e+07,\n",
      "           -2.5613e+07,  3.9050e+07, -2.4270e+07,  6.3160e+07],\n",
      "          [-5.9890e+20,  1.1695e+22,  9.3900e+21,  2.4159e+21, -2.4524e+21,\n",
      "            7.3695e+21,  3.4704e+21,  8.2557e+12,  2.1345e+16,  3.7052e+16,\n",
      "           -2.4564e+16,  5.3068e+15, -1.3571e+13, -2.0456e+11,  2.1459e+16,\n",
      "            3.6947e+16, -2.4564e+16,  5.3068e+15, -5.5505e+21,  2.8189e+21,\n",
      "           -4.1384e+20, -1.3836e+07,  4.6989e+07,  8.4791e+13, -2.0186e+11,\n",
      "            8.1492e+12, -1.0451e+14, -2.7941e+07,  4.6115e+07],\n",
      "          [-5.4283e+21,  2.1546e+21,  5.5610e+21,  7.1242e+21,  1.3968e+14,\n",
      "           -3.0685e+13, -7.4852e+13, -6.4314e+13,  2.4958e+16,  1.1906e+16,\n",
      "           -2.1396e+16,  5.5771e+15, -3.0540e+13, -5.9595e+13,  2.2946e+16,\n",
      "            1.1810e+16,  5.4470e+20,  1.8278e+21, -3.8988e+21, -4.8776e+12,\n",
      "            1.9687e+14, -2.5246e+15,  4.7234e+06, -1.5086e+13,  1.9895e+15,\n",
      "           -6.8363e+13,  9.7398e+13, -2.5246e+15, -1.8110e+06],\n",
      "          [-3.9858e+21, -5.4591e+21,  2.7725e+21, -4.0703e+20,  6.6206e+13,\n",
      "           -1.2948e+14,  1.8659e+14, -1.5602e+13, -3.7991e+14, -1.2933e+15,\n",
      "           -1.4674e+15, -2.5237e+15,  3.6311e+13,  1.4150e+14, -1.5602e+13,\n",
      "            1.1235e+14, -5.7882e+21,  4.9651e+20,  7.0172e+21,  2.6319e+14,\n",
      "           -1.5337e+15, -2.4029e+15,  1.3033e+15, -4.9014e+14, -2.0218e+14,\n",
      "           -1.0051e+15, -1.4712e+15, -3.3992e+15, -2.6552e+07],\n",
      "          [ 9.0527e+21, -4.0075e+21,  4.5085e+13,  1.9688e+07, -1.4088e+07,\n",
      "            1.2947e+14,  6.7071e+13, -1.2229e+14, -1.6356e+14,  3.3744e+15,\n",
      "           -3.7206e+14, -3.6858e+14,  5.9898e+21,  2.3970e+21,  2.5113e+21,\n",
      "            4.5674e+13, -1.9695e+21, -6.4686e+21,  5.1892e+21,  5.2690e+15,\n",
      "            2.7695e+15, -3.7606e+14, -5.0218e+14, -3.9773e+15, -1.5080e+15,\n",
      "            3.1803e+15,  2.2094e+15, -1.3243e+15, -3.0778e+18],\n",
      "          [ 5.8154e+21,  7.2130e+21, -3.0538e+15,  1.6843e+15,  1.0804e+07,\n",
      "           -2.2408e+06,  2.3764e+07, -1.1637e+07,  3.0875e+15,  1.5994e+15,\n",
      "           -2.9160e+15,  1.0892e+15, -6.2606e+20,  6.2011e+21,  7.4053e+21,\n",
      "           -1.6826e+07, -2.4664e+21,  7.4115e+21,  3.4902e+21,  3.0237e+15,\n",
      "           -3.4750e+15, -1.0904e+15, -2.4481e+15, -3.9081e+15,  2.1086e+15,\n",
      "            3.2974e+15, -3.6218e+15, -1.2359e+15,  5.4475e+17],\n",
      "          [-3.0810e+21,  5.3340e+21,  3.1925e+14,  2.3399e+13, -3.0538e+15,\n",
      "            1.6843e+15,  4.0414e+07, -6.6852e+06,  3.3463e+07, -2.6323e+07,\n",
      "            4.9846e+07,  2.9550e+06, -5.6745e+21,  2.8819e+21, -4.2309e+20,\n",
      "           -1.7106e+07, -5.5896e+14, -2.1796e+15, -2.3522e+15,  1.0995e+16,\n",
      "           -3.5586e+14,  6.5861e+15, -1.8808e+16, -1.1261e+15,  6.1317e+14,\n",
      "           -3.1710e+14, -1.4716e+15,  5.6050e+15,  3.1308e+17],\n",
      "          [ 7.6183e+21,  3.5875e+21, -6.9107e+15,  7.6930e+15, -5.9662e+15,\n",
      "            1.9519e+15,  1.0933e+15,  1.9687e+14, -2.5246e+15, -2.5909e+07,\n",
      "            8.7193e+07,  2.0484e+15, -4.8776e+12,  1.9687e+14, -2.5246e+15,\n",
      "           -2.3319e+07, -3.2090e+14,  5.1752e+15, -5.7062e+14, -3.1772e+15,\n",
      "           -5.4496e+15, -8.5383e+15, -2.1776e+16,  3.0020e+15, -1.4682e+14,\n",
      "           -1.4545e+14,  4.7353e+15,  2.4530e+15, -4.6461e+18],\n",
      "          [ 8.8536e+15,  1.4680e+16, -3.5495e+15, -1.4849e+15, -2.2469e+16,\n",
      "            1.8374e+15, -1.8575e+14,  1.3146e+16, -2.4379e+15,  4.7136e+15,\n",
      "           -1.9313e+16, -2.3556e+15, -3.2292e+14,  1.3146e+16, -2.4379e+15,\n",
      "            1.4109e+15, -1.3358e+16,  2.4530e+15, -4.4723e+15,  1.7091e+14,\n",
      "            2.4183e+16, -2.6664e+15, -1.4231e+15,  6.3114e+14, -1.1507e+15,\n",
      "            4.2980e+14,  4.6151e+07,  1.4680e+16, -3.4957e+13],\n",
      "          [ 2.4749e+16,  2.1057e+16, -1.8929e+16, -1.2873e+16, -9.9452e+15,\n",
      "           -1.2665e+15, -1.1266e+16, -2.9840e+15, -1.0553e+16, -1.0981e+16,\n",
      "           -1.7817e+16, -3.1069e+15,  2.0851e+15, -2.9840e+15, -1.0553e+16,\n",
      "           -1.0991e+16, -1.7221e+16,  2.6412e+07, -1.2557e+07,  2.2127e+16,\n",
      "            1.1462e+16, -6.2185e+15,  7.7708e+15,  1.4109e+15, -1.8093e+16,\n",
      "            1.2227e+07,  8.5607e+06, -2.6119e+15, -1.0185e+16],\n",
      "          [-3.0333e+07, -1.6103e+16,  1.9950e+16, -2.7456e+16, -3.9727e+15,\n",
      "           -7.9038e+15, -9.4185e+14, -4.4505e+15,  2.6683e+16, -2.3416e+16,\n",
      "           -4.6221e+15, -9.1436e+14,  2.6497e+15, -4.4156e+15,  2.5272e+16,\n",
      "           -2.6664e+15,  1.2039e+16, -3.4957e+13,  1.4109e+15, -1.8093e+16,\n",
      "           -3.8754e+07, -2.6119e+15, -1.0185e+16, -1.0991e+16, -1.7221e+16,\n",
      "            3.7939e+07, -1.7152e+07, -1.4995e+15,  2.4183e+16]]]],\n",
      "       grad_fn=<ConvolutionBackward0>)\n",
      "outputs shape: torch.Size([1, 1, 29, 29])\n"
     ]
    }
   ],
   "source": [
    "conv = nn.Conv2d(in_channels=1, out_channels=1, kernel_size=7,stride=2, padding=0)\n",
    "print(conv)\n",
    "inputs = torch.Tensor(1,1,64,64)\n",
    "outputs = conv(inputs)\n",
    "print(outputs)\n",
    "print('outputs shape:',outputs.shape)"
   ]
  },
  {
   "cell_type": "code",
   "execution_count": 9,
   "metadata": {},
   "outputs": [
    {
     "name": "stdout",
     "output_type": "stream",
     "text": [
      "Conv2d(1, 1, kernel_size=(5, 5), stride=(1, 1), padding=(2, 2))\n",
      "tensor([[[[-5.8714e+36, -1.0167e+37,  1.3858e+37,  ...,  1.2019e+37,\n",
      "           -3.4684e+36, -6.7631e-02],\n",
      "          [ 4.8922e+36,  1.2401e+37,  9.8561e+36,  ...,  1.5708e+37,\n",
      "           -9.4020e+36, -6.7631e-02],\n",
      "          [ 6.7639e+36, -2.6724e+37, -1.9303e+37,  ...,  8.1002e+36,\n",
      "            6.0172e+36, -1.0326e+07],\n",
      "          ...,\n",
      "          [ 6.7639e+36, -2.6724e+37, -1.9303e+37,  ..., -4.2655e+06,\n",
      "            6.8778e+06, -1.0393e+07],\n",
      "          [ 5.1581e+36, -2.1864e+37,  1.4235e+37,  ..., -2.2580e+07,\n",
      "            5.3202e+06, -1.4757e+07],\n",
      "          [-1.7318e+37,  2.9956e+37,  1.9962e+36,  ...,  8.9442e+06,\n",
      "            1.4051e+07, -7.4151e+06]]]], grad_fn=<ConvolutionBackward0>)\n",
      "outputs shape: torch.Size([1, 1, 32, 632])\n"
     ]
    }
   ],
   "source": [
    "conv = nn.Conv2d(in_channels=1, out_channels=1, kernel_size=5,stride=1, padding=2)\n",
    "print(conv)\n",
    "inputs = torch.Tensor(1,1,32,632)\n",
    "outputs = conv(inputs)\n",
    "print(outputs)\n",
    "print('outputs shape:',outputs.shape)"
   ]
  },
  {
   "cell_type": "code",
   "execution_count": 10,
   "metadata": {},
   "outputs": [
    {
     "name": "stdout",
     "output_type": "stream",
     "text": [
      "Conv2d(1, 1, kernel_size=(5, 5), stride=(1, 1))\n",
      "tensor([[[[ 3.0487e+18, -1.5621e+18,  8.8145e+17,  ..., -1.5711e+07,\n",
      "           -1.3783e+07, -1.2577e+07],\n",
      "          [-1.0520e+18,  2.6245e+18, -1.0161e+18,  ...,  1.6682e+07,\n",
      "           -8.4267e+06, -1.0031e+07],\n",
      "          [-6.5414e+17, -4.0401e+18, -9.0341e+17,  ...,  1.7390e+06,\n",
      "           -2.9280e+07, -4.9231e+06],\n",
      "          ...,\n",
      "          [-8.1771e+15,  2.6453e+07,  5.0214e+06,  ..., -5.4781e+06,\n",
      "            7.7308e+06,  9.9828e+06],\n",
      "          [-7.4067e+15,  9.6749e+06,  6.6999e+06,  ...,  7.5017e+21,\n",
      "           -3.8268e+21,  2.2003e+21],\n",
      "          [ 1.7577e+16,  5.4651e+06,  1.6996e+07,  ..., -2.5702e+21,\n",
      "            6.5526e+21, -2.4590e+21]]]], grad_fn=<ConvolutionBackward0>)\n",
      "outputs shape: torch.Size([1, 1, 28, 60])\n"
     ]
    }
   ],
   "source": [
    "# 예제 4\n",
    "conv = nn.Conv2d(in_channels=1, out_channels=1, kernel_size=5,stride=1, padding=0)\n",
    "print(conv)\n",
    "inputs = torch.Tensor(1,1,32,64)\n",
    "outputs = conv(inputs)\n",
    "print(outputs)\n",
    "print('outputs shape:',outputs.shape)"
   ]
  },
  {
   "cell_type": "code",
   "execution_count": 11,
   "metadata": {},
   "outputs": [
    {
     "name": "stdout",
     "output_type": "stream",
     "text": [
      "Conv2d(1, 1, kernel_size=(3, 3), stride=(1, 1), padding=(1, 1))\n",
      "tensor([[[[ 7.4871e+13, -1.3563e+14, -3.8833e+06,  ..., -1.6038e+06,\n",
      "           -3.8833e+06, -2.4684e+07],\n",
      "          [ 1.3108e+16, -2.3418e+16,  3.3320e+07,  ...,  1.3417e+07,\n",
      "            3.3320e+07, -3.2219e+06],\n",
      "          [ 6.6251e+15,  4.4324e+16,  2.8823e-01,  ...,  2.8823e-01,\n",
      "            2.8823e-01,  2.8823e-01],\n",
      "          ...,\n",
      "          [ 2.9454e+07, -2.7923e+07,  2.8823e-01,  ..., -3.2239e+06,\n",
      "            2.8823e-01,  2.8823e-01],\n",
      "          [ 3.3341e+07, -3.2239e+06,  2.8823e-01,  ...,  2.8823e-01,\n",
      "            2.8823e-01,  2.8823e-01],\n",
      "          [ 2.8823e-01,  2.8823e-01,  2.8823e-01,  ...,  2.8823e-01,\n",
      "            2.8823e-01,  2.8823e-01]]]], grad_fn=<ConvolutionBackward0>)\n",
      "outputs shape: torch.Size([1, 1, 64, 32])\n"
     ]
    }
   ],
   "source": [
    "# 예제 5\n",
    "conv = nn.Conv2d(in_channels=1, out_channels=1, kernel_size=3,stride=1, padding=1)\n",
    "print(conv)\n",
    "inputs = torch.Tensor(1,1,64,32)\n",
    "outputs = conv(inputs)\n",
    "print(outputs)\n",
    "print('outputs shape:',outputs.shape)"
   ]
  },
  {
   "cell_type": "code",
   "execution_count": 12,
   "metadata": {},
   "outputs": [
    {
     "name": "stdout",
     "output_type": "stream",
     "text": [
      "torch.Size([1, 5, 24, 24])\n",
      "torch.Size([1, 5, 12, 12])\n"
     ]
    }
   ],
   "source": [
    "# torch.nn.MaxPool2d(kernel_size)\n",
    "\n",
    "import torch\n",
    "import torch.nn as nn\n",
    "inputs = torch.Tensor(1,1,28,28)\n",
    "conv1 = nn.Conv2d(in_channels=1, out_channels=5,kernel_size=5)\n",
    "pool = nn.MaxPool2d(2)\n",
    "out = conv1(inputs)\n",
    "out2 = pool(out)\n",
    "print(out.size())\n",
    "print(out2.size())"
   ]
  },
  {
   "cell_type": "markdown",
   "metadata": {},
   "source": [
    "# Lab-10-2 mnist cnn\n",
    "1. 라이브러리를 가져온다 (torch, torchvision, matplotlib)\n",
    "2. GPU 사용 설정하고 random value를 위한 seed 설정\n",
    "3. 학습에 사용되는 parameter 설정 (learning_rate, training_epochs, batch_size, etc)\n",
    "4. 데이터셋을 가져오고 (학습에 쓰기 편하기) loader 만들기\n",
    "5. 학습 모델 만들기 (`class CNN(torch.nn.Module)`)\n",
    "6. Loss function (Criterion)을 선택하고 최적화 도구 선택(Optimizer)\n",
    "7. 모델 학습 및 Loss check(Criterion의 Output)\n",
    "8. 학습된 모델의 성능을 확인한다.\n",
    "\n",
    "## 우리가 만들 CNN 구조\n",
    "- 데이터 -> Layer1(Conv->ReLU->MaxPool) -> Layer2(Conv->ReLU->MaxPool) -> view -> FC -> Cross Entropy Loss(SoftMax -> NLL loss)\n",
    "- (Layer1) Convolution layer = (in_c=1, out_c=32, kernel_size=3, stride=1, padding=1)\n",
    "- (Layer1) MaxPool layer = (kernel_size=2, stride=2)\n",
    "\n",
    "- (Layer2) Convolution layer = (in_c=32, out_c=64, kernel_size=3, stride=1, padding=1)\n",
    "- (Layer2) MaxPool layer = (kernel_size=2, stride=2)\n",
    "\n",
    "- view => (batch_size x [7,7,64] => batch_size x [3136])\n",
    "- Fully_Conneted layer => (input=3136, output=10)"
   ]
  },
  {
   "cell_type": "code",
   "execution_count": 2,
   "metadata": {},
   "outputs": [],
   "source": [
    "import torch\n",
    "import torchvision.datasets as dsets\n",
    "import torchvision.transforms as transforms\n",
    "import torch.nn.init"
   ]
  },
  {
   "cell_type": "code",
   "execution_count": 3,
   "metadata": {},
   "outputs": [],
   "source": [
    "device = 'cuda'\n",
    "\n",
    "torch.manual_seed(777)\n",
    "torch.cuda.manual_seed_all(777)"
   ]
  },
  {
   "cell_type": "code",
   "execution_count": 4,
   "metadata": {},
   "outputs": [],
   "source": [
    "# parameters\n",
    "learning_rate = 0.001\n",
    "training_epochs = 15\n",
    "batch_size = 100"
   ]
  },
  {
   "cell_type": "code",
   "execution_count": 6,
   "metadata": {},
   "outputs": [],
   "source": [
    "# MNIST dataset\n",
    "mnist_train = dsets.MNIST(root='MNIST_data/',\n",
    "                          train=True,\n",
    "                          transform=transforms.ToTensor(),\n",
    "                          download=True)\n",
    "\n",
    "mnist_test = dsets.MNIST(root='MNIST_data/',\n",
    "                         train=False,\n",
    "                         transform=transforms.ToTensor(),\n",
    "                         download=True)"
   ]
  },
  {
   "cell_type": "code",
   "execution_count": 7,
   "metadata": {},
   "outputs": [],
   "source": [
    "# dataset loader\n",
    "data_loader = torch.utils.data.DataLoader(dataset=mnist_train,\n",
    "                                          batch_size=batch_size,\n",
    "                                          shuffle=True,\n",
    "                                          drop_last=True)"
   ]
  },
  {
   "cell_type": "code",
   "execution_count": 12,
   "metadata": {},
   "outputs": [],
   "source": [
    "# CNN model\n",
    "class CNN(torch.nn.Module):\n",
    "    \n",
    "    def __init__(self):\n",
    "        super(CNN, self).__init__()\n",
    "        # L1 ImgIn shape = (?, 28, 28, 1)\n",
    "        # conv -> (?, 28, 28, 32)\n",
    "        # Pool -> (?, 14, 14, 32)\n",
    "        self.layer1 = torch.nn.Sequential(\n",
    "            torch.nn.Conv2d(in_channels=1, out_channels=32, kernel_size=3, stride=1, padding=1),\n",
    "            torch.nn.ReLU(),\n",
    "            torch.nn.MaxPool2d(kernel_size=2, stride=2)\n",
    "        )\n",
    "\n",
    "        # L2 ImgIn shape = (?, 14, 14, 32)\n",
    "        # Conv -> (?, 14, 14, 64)\n",
    "        # Pool -> (?, 7, 7, 64)\n",
    "        self.layer2 = torch.nn.Sequential(\n",
    "            torch.nn.Conv2d(in_channels=32, out_channels=64, kernel_size=3, stride=1, padding=1),\n",
    "            torch.nn.ReLU(),\n",
    "            torch.nn.MaxPool2d(kernel_size=2, stride=2)\n",
    "        )\n",
    "        # Final FC 7*7*64 inputs -> 10 outputs\n",
    "        self.fc = torch.nn.Linear(in_features=7*7*64, out_features=10, bias=True)\n",
    "        \n",
    "        torch.nn.init.xavier_uniform_(self.fc.weight)\n",
    "\n",
    "    def forward(self, x):\n",
    "        out = self.layer1(x)\n",
    "        out = self.layer2(out)\n",
    "        out = out.view(out.size(0), -1) \n",
    "        # Flatten them for FC\n",
    "        out = self.fc(out)\n",
    "        \n",
    "        return out"
   ]
  },
  {
   "cell_type": "code",
   "execution_count": 13,
   "metadata": {},
   "outputs": [],
   "source": [
    "# instantiate CNN model\n",
    "model = CNN().to(device)"
   ]
  },
  {
   "cell_type": "code",
   "execution_count": 14,
   "metadata": {},
   "outputs": [],
   "source": [
    "# define cost/loss & optimizer\n",
    "criterion = torch.nn.CrossEntropyLoss().to(device)\n",
    "# Softmax is internally computed\n",
    "optimizer = torch.optim.Adam(model.parameters(), lr=learning_rate)"
   ]
  },
  {
   "cell_type": "code",
   "execution_count": 15,
   "metadata": {},
   "outputs": [
    {
     "name": "stdout",
     "output_type": "stream",
     "text": [
      "Learning started. It takes sometime.\n",
      "[Epoch:    1] cost = 0.226737916\n",
      "[Epoch:    2] cost = 0.0618809499\n",
      "[Epoch:    3] cost = 0.0459988527\n",
      "[Epoch:    4] cost = 0.0365079641\n",
      "[Epoch:    5] cost = 0.0301498659\n",
      "[Epoch:    6] cost = 0.0252439808\n",
      "[Epoch:    7] cost = 0.0213218592\n",
      "[Epoch:    8] cost = 0.018244192\n",
      "[Epoch:    9] cost = 0.0148651777\n",
      "[Epoch:   10] cost = 0.012360014\n",
      "[Epoch:   11] cost = 0.0104663121\n",
      "[Epoch:   12] cost = 0.00983833708\n",
      "[Epoch:   13] cost = 0.00828739163\n",
      "[Epoch:   14] cost = 0.00680823717\n",
      "[Epoch:   15] cost = 0.00600036001\n",
      "Learning Finished!\n"
     ]
    }
   ],
   "source": [
    "# train my model\n",
    "total_batch = len(data_loader)\n",
    "print('Learning started. It takes sometime.')\n",
    "for epoch in range(training_epochs):\n",
    "    avg_cost = 0\n",
    "\n",
    "    for X, Y in data_loader:\n",
    "        # image is already size of (28x28), no reshape\n",
    "        # label is not one-hot encoded\n",
    "        X = X.to(device)\n",
    "        Y = Y.to(device)\n",
    "\n",
    "        optimizer.zero_grad()\n",
    "        hypothesis = model(X)\n",
    "        cost = criterion(hypothesis, Y)\n",
    "        cost.backward()\n",
    "        optimizer.step()\n",
    "\n",
    "        avg_cost += cost / total_batch\n",
    "\n",
    "    print('[Epoch: {:>4}] cost = {:>.9}'.format(epoch + 1, avg_cost))\n",
    "\n",
    "print('Learning Finished!')"
   ]
  },
  {
   "cell_type": "code",
   "execution_count": null,
   "metadata": {},
   "outputs": [],
   "source": [
    "# Test model and check accuracy\n",
    "with torch.no_grad():\n",
    "    X_test = mnist_test.test_data.view(len(mnist_test), 1, 28, 28).float().to(device)\n",
    "    Y_test = mnist_test.test_labels.to(device)\n",
    "\n",
    "    prediction = model(X_test)\n",
    "    correct_prediction = torch.argmax(prediction, 1) == Y_test\n",
    "    accuracy = correct_prediction.float().mean()\n",
    "    print('Accuracy:', accuracy.item())"
   ]
  },
  {
   "cell_type": "code",
   "execution_count": null,
   "metadata": {},
   "outputs": [],
   "source": []
  }
 ],
 "metadata": {
  "interpreter": {
   "hash": "78f8049be311e578f52a502ceb941e702d1aebc0ae697b457cf7941b91578c1d"
  },
  "kernelspec": {
   "display_name": "Python 3.9.10 ('pp_predict')",
   "language": "python",
   "name": "python3"
  },
  "language_info": {
   "codemirror_mode": {
    "name": "ipython",
    "version": 3
   },
   "file_extension": ".py",
   "mimetype": "text/x-python",
   "name": "python",
   "nbconvert_exporter": "python",
   "pygments_lexer": "ipython3",
   "version": "3.9.10"
  },
  "orig_nbformat": 4
 },
 "nbformat": 4,
 "nbformat_minor": 2
}
