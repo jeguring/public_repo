{
 "cells": [
  {
   "cell_type": "markdown",
   "metadata": {},
   "source": [
    "# linux 명령어"
   ]
  },
  {
   "cell_type": "code",
   "execution_count": null,
   "metadata": {},
   "outputs": [],
   "source": [
    "'''현재 작업중인 디렉토리 정보 출력'''\n",
    "pwd \n",
    "\n",
    "'''cp 파일 혹은 디렉토리를 복사\n",
    "디렉토리를 복사할 때는 -r 옵션 추가'''\n",
    "cp file file_cp\n",
    "cp -r dir dir_cp\n",
    "\n",
    "'''mv : 파일 혹은 디렉토리 이동 & 이름 변경'''\n",
    "# 파일명 변경 \n",
    "mv testfile testfile_rename\n",
    "# 디렉토리 이동\n",
    "fv testfile dir/\n",
    "\n",
    "'''rm (remove) : 파일이나 디렉토리를 삭제\n",
    "디렉토리 삭제시 r 옵션 추가\n",
    "-f 옵션을 주면 사용자에게 삭제 여부를 묻지 않고 바로 삭제'''\n",
    "rm -f testfile\n",
    "rm -rf testdir/\n",
    "\n",
    "확인 방법1) cat(또는 vi) ~/.ssh/id_rsa.pub\n",
    "\n",
    "확인 방법2) bcopy < ~/.ssh/id_rsa.pub\n",
    "\n",
    "출처:  [갓대희의 작은공간]"
   ]
  },
  {
   "cell_type": "markdown",
   "metadata": {},
   "source": [
    "# 깃허브 사용법 및 명령어"
   ]
  },
  {
   "cell_type": "markdown",
   "metadata": {},
   "source": [
    "## gitignore"
   ]
  },
  {
   "cell_type": "code",
   "execution_count": null,
   "metadata": {},
   "outputs": [],
   "source": [
    "# 특정 파일 fileName 제외하기\n",
    "filename.js\n",
    "\n",
    "# 현재 경로에 있는 fileName_1만 제외하기. (다른 경로 fileName_1 말고)\n",
    "/fileName_1.js\n",
    "\n",
    "# 특정 폴더 node_module 안의 파일 다 제외하기\n",
    "node_module/\n",
    "\n",
    "# 특정 경로의 특정 파일 제외하기\n",
    "folder/my.txt\n",
    "\n",
    "# 특정 경로 아래의 모든 fileName_2 제외하기\n",
    "folder/**/fileName_2.txt\n",
    "\n",
    "# 특정 확장자 파일 다 제외하기\n",
    "*.txt\n",
    "\n",
    "# 예외 만들기\n",
    "!fileName.txt\n"
   ]
  },
  {
   "cell_type": "code",
   "execution_count": null,
   "metadata": {},
   "outputs": [],
   "source": [
    "## 파일 이라면 \n",
    "git rm --cached test.txt \n",
    "## 전체파일 이라면 \n",
    "git rm --cached *.txt \n",
    "# ## 폴더 라면 \n",
    "git rm --cached test/ -r\n",
    "\n",
    "출처:  [web sprit]"
   ]
  }
 ],
 "metadata": {
  "language_info": {
   "name": "python"
  },
  "orig_nbformat": 4
 },
 "nbformat": 4,
 "nbformat_minor": 2
}
