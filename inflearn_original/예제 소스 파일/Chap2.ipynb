{
 "cells": [
  {
   "cell_type": "code",
   "execution_count": 3,
   "metadata": {},
   "outputs": [],
   "source": [
    "# *Chapter02-01\n",
    "# *객체 지향 프로그래밍(OOP) -> 코드의 재사용, 코드 중복 방지, 유지보수, 대형프로젝트\n",
    "# *규모가 큰 프로젝트(프로그램) -> 함수 중심 -> 데이터 방대 -> 복잡\n",
    "# *.클래스 중심 -> 데이터 중심 -> 객체로 관리\n",
    "\n",
    "# 일반적인 코딩\n",
    "# 차량1\n",
    "car_company = 'Ferrari'\n",
    "car_detail_1 = [\n",
    "    {'color': 'White'},\n",
    "    {'horsepower': 400},\n",
    "    {'price': 8000}\n",
    "]\n",
    "\n",
    "# 차량2\n",
    "car_company_2 = 'Bmw'\n",
    "car_detail_2 = [\n",
    "    {'color' : 'Black'},\n",
    "    {'horsepower': 270},\n",
    "    {'price': 5000}\n",
    "]\n",
    "\n",
    "# 차량3\n",
    "car_company_3 = 'Audi'\n",
    "car_detail_3 = [\n",
    "    {'color' : 'Silver'},\n",
    "    {'horsepower': 300},\n",
    "    {'price': 6000}\n",
    "]"
   ]
  },
  {
   "cell_type": "code",
   "execution_count": null,
   "metadata": {},
   "outputs": [],
   "source": []
  },
  {
   "cell_type": "code",
   "execution_count": null,
   "metadata": {},
   "outputs": [],
   "source": [
    "def add(a,b):\n",
    "    return a + b;\n",
    "\n"
   ]
  },
  {
   "cell_type": "code",
   "execution_count": null,
   "metadata": {},
   "outputs": [],
   "source": [
    "class Car():\n",
    "    def __init__(self, color, housepower, price):\n",
    "        self.compony = \n",
    "        self.color = color\n",
    "        self.housepower = housepower\n",
    "        self.price = price\n",
    "        self.list = []\n",
    "    \n",
    "    def dict(self):\n"
   ]
  },
  {
   "cell_type": "code",
   "execution_count": 5,
   "metadata": {},
   "outputs": [
    {
     "name": "stdout",
     "output_type": "stream",
     "text": [
      "['Ferrari', 'Bmw', 'Audi']\n",
      "[{'color': 'White', 'horsepower': 400, 'price': 8000}, {'color': 'Black', 'horsepower': 270, 'price': 5000}, {'color': 'Silver', 'horsepower': 300, 'price': 6000}]\n",
      "['Ferrari', 'Audi']\n",
      "[{'color': 'White', 'horsepower': 400, 'price': 8000}, {'color': 'Silver', 'horsepower': 300, 'price': 6000}]\n",
      "\n",
      "\n"
     ]
    }
   ],
   "source": [
    "# 리스트 구조\n",
    "# 관리하기 불편\n",
    "# 인덱스 접근 시 실수 가능성 증가, 삭제 불편\n",
    "\n",
    "car_company_list = ['Ferrari','Bmw','Audi']\n",
    "car_detail_list = [\n",
    "    {'color' : 'White', 'horsepower': 400, 'price': 8000},\n",
    "    {'color' : 'Black', 'horsepower': 270, 'price': 5000},\n",
    "    {'color' : 'Silver', 'horsepower': 300, 'price': 6000}\n",
    "]\n",
    "\n",
    "print(car_company_list)\n",
    "print(car_detail_list)\n",
    "\n",
    "# 자동차 회사 삭제\n",
    "del car_company_list[1]\n",
    "del car_detail_list[1]\n",
    "\n",
    "print(car_company_list)\n",
    "print(car_detail_list)\n",
    "\n",
    "print()\n",
    "print()"
   ]
  },
  {
   "cell_type": "code",
   "execution_count": 8,
   "metadata": {},
   "outputs": [],
   "source": [
    "# 딕셔너리 구조\n",
    "# 코드 반복 지속, 중첩 문제, 키 조회 예외 처리 등\n",
    "\n",
    "car_dicts = [\n",
    "    {'car_company': 'Ferrari', 'car_detail': {'color' : 'White', 'horsepower': 400, 'price': 8000}},\n",
    "    {'car_company': 'Bmw', 'car_detail': {'color' : 'Black', 'horsepower': 270, 'price': 5000}},\n",
    "    {'car_company': 'Audi', 'car_detail': {'color' : 'Silver', 'horsepower': 300, 'price': 6000}}\n",
    "]"
   ]
  },
  {
   "cell_type": "code",
   "execution_count": 9,
   "metadata": {},
   "outputs": [
    {
     "name": "stdout",
     "output_type": "stream",
     "text": [
      "[{'car_company': 'Ferrari', 'car_detail': {'color': 'White', 'horsepower': 400, 'price': 8000}}, {'car_company': 'Bmw', 'car_detail': {'color': 'Black', 'horsepower': 270, 'price': 5000}}, {'car_company': 'Audi', 'car_detail': {'color': 'Silver', 'horsepower': 300, 'price': 6000}}]\n"
     ]
    }
   ],
   "source": [
    "print(car_dicts)\n",
    "del car_dicts[1]"
   ]
  },
  {
   "cell_type": "code",
   "execution_count": 31,
   "metadata": {},
   "outputs": [],
   "source": [
    "# 클래스 구조\n",
    "# 구조 설계 후 재사용성 증가, 코드 반복 최소화, 메소드 활용\n",
    "\n",
    "class Car():\n",
    "    def __init__(self, company, details):\n",
    "        self._company = company\n",
    "        self._details = details\n",
    "# 안스턴스 메서드 : 속 알맹이가 궁금할 때 __str__를 구현해놓고 print하면 됨\n",
    "    def __str__(self): # 비공식적인, print로 출력하는 사용자 입장의 출력을 할 때\n",
    "        return 'str : {} - {}'.format(self._company, self._details)\n",
    "\n",
    "    def __repr__(self): # 객체를 그대로 표현해줄 때 -> 엔지니어 레벨 객체의 엄격한 타입 정보 공식적인 문자열로 표현할 때 -> 이걸 더 많이 사용하기\n",
    "        return 'repr : {} - {}'.format(self._company, self._details)\n",
    "\n",
    "    def __reduce__(self):\n",
    "        pass\n"
   ]
  },
  {
   "cell_type": "code",
   "execution_count": 32,
   "metadata": {},
   "outputs": [
    {
     "name": "stdout",
     "output_type": "stream",
     "text": [
      "['__class__', '__delattr__', '__dict__', '__dir__', '__doc__', '__eq__', '__format__', '__ge__', '__getattribute__', '__gt__', '__hash__', '__init__', '__init_subclass__', '__le__', '__lt__', '__module__', '__ne__', '__new__', '__reduce__', '__reduce_ex__', '__repr__', '__setattr__', '__sizeof__', '__str__', '__subclasshook__', '__weakref__', '_company', '_details']\n"
     ]
    }
   ],
   "source": [
    "# car1 = Car('Ferrari', {'color' : 'White', 'horsepower': 400, 'price': 8000})\n",
    "# car2 = Car('Bmw', {'color' : 'Black', 'horsepower': 270, 'price': 5000})\n",
    "# car3 = Car('Audi', {'color' : 'Silver', 'horsepower': 300, 'price': 6000})\n",
    "\n",
    "# # # __dict__ 이란 속성은 내부 속성들을 다 보여주게 됨\n",
    "# # print(car1.__dict__)\n",
    "# # print(car2.__dict__)\n",
    "# # print(car3.__dict__)\n",
    "\n",
    "# # dir : 내부의 모든 메타정보를 알려줌\n",
    "# print(dir(car1))\n"
   ]
  },
  {
   "cell_type": "code",
   "execution_count": 35,
   "metadata": {},
   "outputs": [
    {
     "name": "stdout",
     "output_type": "stream",
     "text": [
      "[repr : Ferrari - {'color': 'White', 'horsepower': 400, 'price': 8000}, repr : Bmw - {'color': 'Black', 'horsepower': 270, 'price': 5000}, repr : Audi - {'color': 'Silver', 'horsepower': 300, 'price': 6000}]\n"
     ]
    }
   ],
   "source": [
    "# 리스트 선언\n",
    "car_list = []\n",
    "\n",
    "car_list.append(car1)\n",
    "car_list.append(car2)\n",
    "car_list.append(car3)\n",
    "\n",
    "print(car_list)\n",
    "# 리스트 안에 객체로서 들어갈 땐 repr이 호출됨"
   ]
  },
  {
   "cell_type": "code",
   "execution_count": 38,
   "metadata": {},
   "outputs": [
    {
     "name": "stdout",
     "output_type": "stream",
     "text": [
      "str : Ferrari - {'color': 'White', 'horsepower': 400, 'price': 8000}\n",
      "str : Bmw - {'color': 'Black', 'horsepower': 270, 'price': 5000}\n",
      "str : Audi - {'color': 'Silver', 'horsepower': 300, 'price': 6000}\n",
      "repr : Ferrari - {'color': 'White', 'horsepower': 400, 'price': 8000}\n",
      "repr : Bmw - {'color': 'Black', 'horsepower': 270, 'price': 5000}\n",
      "repr : Audi - {'color': 'Silver', 'horsepower': 300, 'price': 6000}\n"
     ]
    }
   ],
   "source": [
    "for x in car_list:\n",
    "    print(x)\n",
    "    # print문 사용시에는 str이 나옴\n",
    "\n",
    "for x in car_list:\n",
    "    print(repr(x))\n",
    "    # print문 사용시에는 str이 나옴\n",
    "\n"
   ]
  },
  {
   "cell_type": "markdown",
   "metadata": {},
   "source": [
    "# 클래스 & 메소드 심화 (2-1)"
   ]
  },
  {
   "cell_type": "code",
   "execution_count": 26,
   "metadata": {},
   "outputs": [],
   "source": [
    "class Car():\n",
    "    \"\"\"\n",
    "    Car class\n",
    "    Author : Kim(성만 적기)\n",
    "    Date : 2022.07.10\n",
    "    \"\"\"\n",
    "\n",
    "\n",
    "    def __init__(self, company, details):\n",
    "        self._company = company\n",
    "        self._details = details\n",
    "\n",
    "    # self를 인자로 받는 것은 인스턴스 메소드 이다.    \n",
    "    def __str__(self): \n",
    "        return 'str : {} - {}'.format(self._company, self._details)\n",
    "\n",
    "    def __repr__(self): \n",
    "        return 'repr : {} - {}'.format(self._company, self._details)\n",
    "\n",
    "# self의 의미 : instance method에서는 self가 첫번째 매개변수로 넘어오게 되어 있음.\n",
    "car1 = Car('Ferrari', {'color' : 'White', 'horsepower': 400, 'price': 8000})\n",
    "car2 = Car('Bmw', {'color' : 'Black', 'horsepower': 270, 'price': 5000})\n",
    "car3 = Car('Audi', {'color' : 'Silver', 'horsepower': 300, 'price': 6000})        "
   ]
  },
  {
   "cell_type": "code",
   "execution_count": 27,
   "metadata": {},
   "outputs": [
    {
     "name": "stdout",
     "output_type": "stream",
     "text": [
      "4543704720\n",
      "4543701936\n",
      "4543706064\n",
      "False\n",
      "False\n"
     ]
    }
   ],
   "source": [
    "# !ID 확인\n",
    "'''\n",
    "class는 하나지만 각자 고유의 값을 가진 것들임. 그래서 self임.\n",
    "self가 있어야 자기 instance의 attribute values를 따로따로 관리를 할 수 있음.\n",
    "-> 즉 붕어빵 기계 틀은 하나지만, 찍어내는 붕어빵은 여러개(다르다)이다. \n",
    "탄 붕어빵, 덜 익은 붕어빵, 잘 익은 붕어빵 등등\n",
    "'''\n",
    "print(id(car1))\n",
    "print(id(car2))\n",
    "print(id(car3))\n",
    "\n",
    "print(car1._company == car2._company)\n",
    "print(car1 is car2) # identity 값이 다름"
   ]
  },
  {
   "cell_type": "code",
   "execution_count": 28,
   "metadata": {},
   "outputs": [
    {
     "name": "stdout",
     "output_type": "stream",
     "text": [
      "['__class__', '__delattr__', '__dict__', '__dir__', '__doc__', '__eq__', '__format__', '__ge__', '__getattribute__', '__gt__', '__hash__', '__init__', '__init_subclass__', '__le__', '__lt__', '__module__', '__ne__', '__new__', '__reduce__', '__reduce_ex__', '__repr__', '__setattr__', '__sizeof__', '__str__', '__subclasshook__', '__weakref__', '_company', '_details']\n",
      "['__class__', '__delattr__', '__dict__', '__dir__', '__doc__', '__eq__', '__format__', '__ge__', '__getattribute__', '__gt__', '__hash__', '__init__', '__init_subclass__', '__le__', '__lt__', '__module__', '__ne__', '__new__', '__reduce__', '__reduce_ex__', '__repr__', '__setattr__', '__sizeof__', '__str__', '__subclasshook__', '__weakref__', '_company', '_details']\n",
      "{'_company': 'Ferrari', '_details': {'color': 'White', 'horsepower': 400, 'price': 8000}}\n",
      "{'_company': 'Bmw', '_details': {'color': 'Black', 'horsepower': 270, 'price': 5000}}\n",
      "\n",
      "    Car class\n",
      "    Author : Kim(성만 적기)\n",
      "    Date : 2022.07.10\n",
      "    \n"
     ]
    }
   ],
   "source": [
    "# dir & __dict__ 확인\n",
    "\n",
    "# dir : list 형태로, 해당 instance가 가지고 있는 모든 attribute들을 보여줌 = magic method + my name space\n",
    "print(dir(car1))\n",
    "print(dir(car2))\n",
    "# __dict__ : dictionary 형태로 모든 값들을 상세하게 보여주고 있음. = my name space\n",
    "print(car1.__dict__)\n",
    "print(car2.__dict__)\n",
    "\n",
    "# Doctring\n",
    "print(Car.__doc__)"
   ]
  },
  {
   "cell_type": "code",
   "execution_count": 29,
   "metadata": {},
   "outputs": [],
   "source": [
    "class Car():\n",
    "    \"\"\"\n",
    "    Car class\n",
    "    Author : Kim(성만 적기)\n",
    "    Date : 2022.07.10\n",
    "    \"\"\"\n",
    "\n",
    "\n",
    "    def __init__(self, company, details):\n",
    "        self._company = company\n",
    "        self._details = details\n",
    "\n",
    "    # self를 인자로 받는 것은 인스턴스 메소드 이다.    \n",
    "    def __str__(self): \n",
    "        return 'str : {} - {}'.format(self._company, self._details)\n",
    "\n",
    "    def __repr__(self): \n",
    "        return 'repr : {} - {}'.format(self._company, self._details)\n",
    "    \n",
    "    # 인스턴스 메소드\n",
    "    def detail_info(self):\n",
    "        print('Current ID : {}'.format(id(self))) # 자기 자신이 출력되는 거니까 ID가 출력될 것임\n",
    "        print('Car Detail Info: {} {}'.format(self._company, self._details.get('price')))\n",
    "        \n",
    "\n",
    "\n",
    "# self의 의미 : instance method에서는 self가 첫번째 매개변수로 넘어오게 되어 있음.\n",
    "car1 = Car('Ferrari', {'color' : 'White', 'horsepower': 400, 'price': 8000})\n",
    "car2 = Car('Bmw', {'color' : 'Black', 'horsepower': 270, 'price': 5000})\n",
    "car3 = Car('Audi', {'color' : 'Silver', 'horsepower': 300, 'price': 6000})        "
   ]
  },
  {
   "cell_type": "code",
   "execution_count": 31,
   "metadata": {},
   "outputs": [
    {
     "name": "stdout",
     "output_type": "stream",
     "text": [
      "Current ID : 4544782656\n",
      "Car Detail Info: Ferrari 8000\n",
      "Current ID : 4544782080\n",
      "Car Detail Info: Bmw 5000\n"
     ]
    }
   ],
   "source": [
    "car1.detail_info()\n",
    "car2.detail_info()"
   ]
  },
  {
   "cell_type": "code",
   "execution_count": 35,
   "metadata": {},
   "outputs": [
    {
     "name": "stdout",
     "output_type": "stream",
     "text": [
      "True\n",
      "140433848395392 140433848395392 140433848395392\n"
     ]
    }
   ],
   "source": [
    "# 비교 : 같음 -> 이유는 둘다 같은 붕어빵 틀이기 떄문에\n",
    "# main class인 Car class의 id를 출력한 것이기 때문에 다 같음. 같은 붕어빵 틀! \n",
    "print(car1.__class__ == car2.__class__)\n",
    "print(id(car1.__class__), id(car2.__class__), id(car3.__class__))"
   ]
  },
  {
   "cell_type": "code",
   "execution_count": 40,
   "metadata": {},
   "outputs": [
    {
     "name": "stdout",
     "output_type": "stream",
     "text": [
      "Current ID : 4544782080\n",
      "Car Detail Info: Bmw 5000\n"
     ]
    }
   ],
   "source": [
    "# 에러\n",
    "#Car.detail_info()\n",
    "## Car.detail_info() missing 1 required positional argument: 'self'\n",
    "\n",
    "# 이러면 됨 : Car 클래스로 불러올 수도 있음\n",
    "Car.detail_info(car2)"
   ]
  },
  {
   "cell_type": "code",
   "execution_count": 2,
   "metadata": {},
   "outputs": [],
   "source": [
    "class Car():\n",
    "    \"\"\"\n",
    "    Car class\n",
    "    Author : Kim(성만 적기)\n",
    "    Date : 2022.07.10\n",
    "    \"\"\"\n",
    "    # 클래스 변수 선언 : class와 __init__ 사이에 선언한다.\n",
    "    # 클래스 변수는 !모든 인스턴스가 공유!!!\n",
    "    car_count = 0\n",
    "\n",
    "    def __init__(self, company, details):\n",
    "        self._company = company\n",
    "        self._details = details\n",
    "        self.car_count = 10\n",
    "        Car.car_count += 1 # init 메서드가 호출될 때마다 1씩 증가한다.\n",
    "\n",
    "    # self를 인자로 받는 것은 인스턴스 메소드 이다.    \n",
    "    def __str__(self): \n",
    "        return 'str : {} - {}'.format(self._company, self._details)\n",
    "\n",
    "    def __repr__(self): \n",
    "        return 'repr : {} - {}'.format(self._company, self._details)\n",
    "\n",
    "    def __del__(self):\n",
    "        print('되는 거야?')\n",
    "        Car.car_count -= 1\n",
    "    \n",
    "    # 인스턴스 메소드\n",
    "    def detail_info(self):\n",
    "        print('Current ID : {}'.format(id(self))) # 자기 자신이 출력되는 거니까 ID가 출력될 것임\n",
    "        print('Car Detail Info: {} {}'.format(self._company, self._details.get('price')))"
   ]
  },
  {
   "cell_type": "code",
   "execution_count": 3,
   "metadata": {},
   "outputs": [],
   "source": [
    "# self의 의미 : instance method에서는 self가 첫번째 매개변수로 넘어오게 되어 있음.\n",
    "car1 = Car('Ferrari', {'color' : 'White', 'horsepower': 400, 'price': 8000})\n",
    "car2 = Car('Bmw', {'color' : 'Black', 'horsepower': 270, 'price': 5000})\n",
    "car3 = Car('Audi', {'color' : 'Silver', 'horsepower': 300, 'price': 6000})        "
   ]
  },
  {
   "cell_type": "code",
   "execution_count": 4,
   "metadata": {},
   "outputs": [
    {
     "name": "stdout",
     "output_type": "stream",
     "text": [
      "{'_company': 'Ferrari', '_details': {'color': 'White', 'horsepower': 400, 'price': 8000}, 'car_count': 10}\n",
      "10\n",
      "10\n",
      "3\n",
      "['__class__', '__del__', '__delattr__', '__dict__', '__dir__', '__doc__', '__eq__', '__format__', '__ge__', '__getattribute__', '__gt__', '__hash__', '__init__', '__init_subclass__', '__le__', '__lt__', '__module__', '__ne__', '__new__', '__reduce__', '__reduce_ex__', '__repr__', '__setattr__', '__sizeof__', '__str__', '__subclasshook__', '__weakref__', '_company', '_details', 'car_count', 'detail_info']\n"
     ]
    }
   ],
   "source": [
    "# car_count 변수가 보이지 않음.\n",
    "print(car1.__dict__)\n",
    "print(car1.car_count)\n",
    "print(car2.car_count)\n",
    "print(Car.car_count) # 정석\n",
    "print(dir(car1)) # dir에서는 클래스변수도 나옴"
   ]
  },
  {
   "cell_type": "code",
   "execution_count": 57,
   "metadata": {},
   "outputs": [
    {
     "name": "stdout",
     "output_type": "stream",
     "text": [
      "되는 거야?\n",
      "0\n",
      "0\n"
     ]
    }
   ],
   "source": [
    "del car2\n",
    "# 삭제확인\n",
    "print(car1.car_count)\n",
    "print(Car.car_count)"
   ]
  },
  {
   "cell_type": "code",
   "execution_count": 1,
   "metadata": {},
   "outputs": [],
   "source": [
    "# 인스턴스 네임스페이스에 없으면 상위에서 검색\n",
    "# 즉, 동일한 이름으로 변수 생성 가능(인스턴스 검색 후, 없으면 -> 상위(클래스 변수, 부모클래스 변수)\n"
   ]
  },
  {
   "cell_type": "markdown",
   "metadata": {},
   "source": [
    "# 클래스 & 메소드 심화 (3-1) : chap02-03"
   ]
  },
  {
   "cell_type": "code",
   "execution_count": 20,
   "metadata": {},
   "outputs": [],
   "source": [
    "class Car():\n",
    "    \"\"\"\n",
    "    Car class\n",
    "    Author : Kim\n",
    "    Date : 2019.11.09\n",
    "    Description : Class, Static, Instance Method\n",
    "    \"\"\"\n",
    "\n",
    "    # 클래스 변수(모든 인스턴스가 공유)\n",
    "    price_per_raise = 1.2\n",
    "\n",
    "    def __init__(self, company, details):\n",
    "        self._company = company\n",
    "        # self.car_count = 10\n",
    "        self._details = details\n",
    "\n",
    "    def __str__(self):\n",
    "        return 'str : {} - {}'.format(self._company, self._details)\n",
    "\n",
    "    def __repr__(self):\n",
    "        return 'repr : {} - {}'.format(self._company, self._details)\n",
    "\n",
    "    # Instance Method\n",
    "    # Self : 객체의 고유한 속성 값을 사용\n",
    "    def detail_info(self):\n",
    "        print('Current ID : {}'.format(id(self)))\n",
    "        print('Car Detail Info : {} {}'.format(self._company, self._details.get('price')))\n",
    "\n",
    "    # Instance Method\n",
    "    def get_price(self):\n",
    "        return 'Before Car Price -> company : {}, price : {}'.format(self._company, self._details.get('price')) # get method를 쓰는 게 좋음\n",
    "    \n",
    "    # Instamce Method\n",
    "    def get_price_culc(self): \n",
    "        return 'After Car Price -> company : {}, price : {}'.format(self._company, self._details.get('price') * Car.price_per_raise) \n",
    "\n",
    "    # Class Method\n",
    "    @classmethod\n",
    "    def raise_price(cls, per): \n",
    "        # cls = Car / cls.price_per_raise = Car.price_per_raise\n",
    "        if per <= 1:\n",
    "            print('Please Enter 1 Or More')\n",
    "            return\n",
    "        cls.price_per_raise = per\n",
    "        return 'Succeed! price increased.'\n",
    "\n",
    "    # Static Method : 아무것도 전달받지 않음\n",
    "    @staticmethod\n",
    "    def is_bmw(inst): # () 인스턴스 전달, 아무것도 받지 않는 것임\n",
    "        if inst._company == 'Bmw':\n",
    "            return 'OK! This car is {}'.format(inst._company)\n",
    "        return 'Sorry. This car is not Bmw.'\n",
    "\n"
   ]
  },
  {
   "cell_type": "code",
   "execution_count": 21,
   "metadata": {},
   "outputs": [],
   "source": [
    "# self의 의미 : instance method에서는 self가 첫번째 매개변수로 넘어오게 되어 있음.\n",
    "car1 = Car('Ferrari', {'color' : 'White', 'horsepower': 400, 'price': 8000})\n",
    "car2 = Car('Bmw', {'color' : 'Black', 'horsepower': 270, 'price': 5000})"
   ]
  },
  {
   "cell_type": "code",
   "execution_count": 22,
   "metadata": {},
   "outputs": [
    {
     "name": "stdout",
     "output_type": "stream",
     "text": [
      "Current ID : 4590365632\n",
      "Car Detail Info : Ferrari 8000\n",
      "Current ID : 4590447504\n",
      "Car Detail Info : Bmw 5000\n"
     ]
    }
   ],
   "source": [
    "# 전체 정보\n",
    "car1.detail_info()\n",
    "car2.detail_info()\n"
   ]
  },
  {
   "cell_type": "code",
   "execution_count": 23,
   "metadata": {},
   "outputs": [
    {
     "name": "stdout",
     "output_type": "stream",
     "text": [
      "8000\n",
      "5000\n",
      "5000\n"
     ]
    }
   ],
   "source": [
    "# 가격정보\n",
    "# 직접 인스턴스 변수에 접근하는 것은 좋지 않음\n",
    "print(car1._details.get('price')) # 캡슐화 : 직접 인스턴스 변수에 접근하는 건 좋지 않아서, 자바나 C++에서는 private으로 막아놈. 예-은행 이율같은거\n",
    "# -> 메소드를 만들어서 내가 필요한 값만 반환하는 방법을 많이 씀\n",
    "print(car2._details.get('price'))\n",
    "print(car2._details['price'])"
   ]
  },
  {
   "cell_type": "code",
   "execution_count": 24,
   "metadata": {},
   "outputs": [
    {
     "name": "stdout",
     "output_type": "stream",
     "text": [
      "Before Car Price -> company : Ferrari, price : 8000\n",
      "Before Car Price -> company : Bmw, price : 5000\n"
     ]
    }
   ],
   "source": [
    "# 가격 정보\n",
    "# 인상 전\n",
    "print(car1.get_price())\n",
    "print(car2.get_price())"
   ]
  },
  {
   "cell_type": "code",
   "execution_count": 25,
   "metadata": {},
   "outputs": [],
   "source": [
    "# 가격 인상률(클래스 메소드 미사용)\n",
    "Car.price_per_raise = 1.4"
   ]
  },
  {
   "cell_type": "code",
   "execution_count": 26,
   "metadata": {},
   "outputs": [
    {
     "name": "stdout",
     "output_type": "stream",
     "text": [
      "After Car Price -> company : Ferrari, price : 11200.0\n",
      "After Car Price -> company : Bmw, price : 7000.0\n"
     ]
    }
   ],
   "source": [
    "# 가격 정보\n",
    "# 인상 후\n",
    "print(car1.get_price_culc())\n",
    "print(car2.get_price_culc())"
   ]
  },
  {
   "cell_type": "code",
   "execution_count": 27,
   "metadata": {},
   "outputs": [
    {
     "data": {
      "text/plain": [
       "'Succeed! price increased.'"
      ]
     },
     "execution_count": 27,
     "metadata": {},
     "output_type": "execute_result"
    }
   ],
   "source": [
    "Car.raise_price(1.6)"
   ]
  },
  {
   "cell_type": "code",
   "execution_count": 31,
   "metadata": {},
   "outputs": [
    {
     "name": "stdout",
     "output_type": "stream",
     "text": [
      "Sorry. This car is not Bmw.\n",
      "OK! This car is Bmw\n",
      "Sorry. This car is not Bmw.\n",
      "OK! This car is Bmw\n"
     ]
    }
   ],
   "source": [
    "# 인스턴스로 호출(Static method)\n",
    "print(car1.is_bmw(car1))\n",
    "print(car1.is_bmw(car2))\n",
    "# 클래스로 호출(Static method)\n",
    "print(Car.is_bmw(car1))\n",
    "print(Car.is_bmw(car2))\n"
   ]
  },
  {
   "cell_type": "markdown",
   "metadata": {},
   "source": []
  },
  {
   "cell_type": "code",
   "execution_count": null,
   "metadata": {},
   "outputs": [],
   "source": []
  },
  {
   "cell_type": "code",
   "execution_count": null,
   "metadata": {},
   "outputs": [],
   "source": []
  }
 ],
 "metadata": {
  "interpreter": {
   "hash": "9132612d292018844046efb7d61620c385772bf99f2e53a3f7e93381535a3719"
  },
  "kernelspec": {
   "display_name": "Python 3.10.5 ('lab')",
   "language": "python",
   "name": "python3"
  },
  "language_info": {
   "codemirror_mode": {
    "name": "ipython",
    "version": 3
   },
   "file_extension": ".py",
   "mimetype": "text/x-python",
   "name": "python",
   "nbconvert_exporter": "python",
   "pygments_lexer": "ipython3",
   "version": "3.10.5"
  },
  "orig_nbformat": 4
 },
 "nbformat": 4,
 "nbformat_minor": 2
}
