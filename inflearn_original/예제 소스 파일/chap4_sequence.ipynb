{
 "cells": [
  {
   "cell_type": "code",
   "execution_count": null,
   "metadata": {},
   "outputs": [],
   "source": []
  }
 ],
 "metadata": {
  "kernelspec": {
   "display_name": "Python 3.9.1 64-bit ('3.9.1')",
   "language": "python",
   "name": "python3"
  },
  "language_info": {
   "name": "python",
   "version": "3.9.1"
  },
  "orig_nbformat": 4,
  "vscode": {
   "interpreter": {
    "hash": "1688da3634d91066dd3ff12b743053dfee9eea8177f464778dec1bcb0ebd64e6"
   }
  }
 },
 "nbformat": 4,
 "nbformat_minor": 2
}
