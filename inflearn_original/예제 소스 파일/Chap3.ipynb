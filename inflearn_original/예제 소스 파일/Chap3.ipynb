{
 "cells": [
  {
   "cell_type": "code",
   "execution_count": 4,
   "metadata": {},
   "outputs": [
    {
     "name": "stdout",
     "output_type": "stream",
     "text": [
      "10\n",
      "<class 'int'>\n",
      "<class 'float'>\n",
      "['__abs__', '__add__', '__and__', '__bool__', '__ceil__', '__class__', '__delattr__', '__dir__', '__divmod__', '__doc__', '__eq__', '__float__', '__floor__', '__floordiv__', '__format__', '__ge__', '__getattribute__', '__getnewargs__', '__gt__', '__hash__', '__index__', '__init__', '__init_subclass__', '__int__', '__invert__', '__le__', '__lshift__', '__lt__', '__mod__', '__mul__', '__ne__', '__neg__', '__new__', '__or__', '__pos__', '__pow__', '__radd__', '__rand__', '__rdivmod__', '__reduce__', '__reduce_ex__', '__repr__', '__rfloordiv__', '__rlshift__', '__rmod__', '__rmul__', '__ror__', '__round__', '__rpow__', '__rrshift__', '__rshift__', '__rsub__', '__rtruediv__', '__rxor__', '__setattr__', '__sizeof__', '__str__', '__sub__', '__subclasshook__', '__truediv__', '__trunc__', '__xor__', 'as_integer_ratio', 'bit_count', 'bit_length', 'conjugate', 'denominator', 'from_bytes', 'imag', 'numerator', 'real', 'to_bytes']\n",
      "['__abs__', '__add__', '__bool__', '__ceil__', '__class__', '__delattr__', '__dir__', '__divmod__', '__doc__', '__eq__', '__float__', '__floor__', '__floordiv__', '__format__', '__ge__', '__getattribute__', '__getformat__', '__getnewargs__', '__gt__', '__hash__', '__init__', '__init_subclass__', '__int__', '__le__', '__lt__', '__mod__', '__mul__', '__ne__', '__neg__', '__new__', '__pos__', '__pow__', '__radd__', '__rdivmod__', '__reduce__', '__reduce_ex__', '__repr__', '__rfloordiv__', '__rmod__', '__rmul__', '__round__', '__rpow__', '__rsub__', '__rtruediv__', '__setattr__', '__setformat__', '__sizeof__', '__str__', '__sub__', '__subclasshook__', '__truediv__', '__trunc__', 'as_integer_ratio', 'conjugate', 'fromhex', 'hex', 'imag', 'is_integer', 'real']\n"
     ]
    }
   ],
   "source": [
    "# Chapter03-02\n",
    "# Special Method(Magic Method)\n",
    "# 파이썬의 핵심 -> 시퀀스(Sequence), 반복(Iterator), 함수(Functions), 클래스(Class)\n",
    "# 클래스 안에 정의할 수 있는 특별한(Built-in) 메소드\n",
    "\n",
    "# 기본형\n",
    "print(int(10))\n",
    "print(int) # 생각하지 않고 사용하던 모든 데이터타입은 class임\n",
    "print(float)\n",
    "\n",
    "# 모든 속성 및 메소드 출력\n",
    "print(dir(int))\n",
    "print(dir(float))\n"
   ]
  },
  {
   "cell_type": "code",
   "execution_count": 5,
   "metadata": {},
   "outputs": [],
   "source": [
    "n = 10"
   ]
  },
  {
   "cell_type": "code",
   "execution_count": 6,
   "metadata": {},
   "outputs": [
    {
     "name": "stdout",
     "output_type": "stream",
     "text": [
      "<class 'int'>\n"
     ]
    }
   ],
   "source": [
    "print(type(n))"
   ]
  },
  {
   "cell_type": "code",
   "execution_count": 25,
   "metadata": {},
   "outputs": [
    {
     "name": "stdout",
     "output_type": "stream",
     "text": [
      "110 \n",
      "\n",
      "110 \n",
      "\n",
      "int([x]) -> integer\n",
      "int(x, base=10) -> integer\n",
      "\n",
      "Convert a number or string to an integer, or return 0 if no arguments\n",
      "are given.  If x is a number, return x.__int__().  For floating point\n",
      "numbers, this truncates towards zero.\n",
      "\n",
      "If x is not a number or if base is given, then x must be a string,\n",
      "bytes, or bytearray instance representing an integer literal in the\n",
      "given base.  The literal can be preceded by '+' or '-' and be surrounded\n",
      "by whitespace.  The base defaults to 10.  Valid bases are 0 and 2-36.\n",
      "Base 0 means to interpret the base from the string as an integer literal.\n",
      ">>> int('0b100', base=0)\n",
      "4 \n",
      "\n",
      "True True \n",
      "\n",
      "1000 1000\n"
     ]
    }
   ],
   "source": [
    "print(n + 100, '\\n')\n",
    "print(n.__add__(100), '\\n')\n",
    "print(n.__doc__, '\\n')\n",
    "print(n.__bool__(), bool(n), '\\n') # 0이면 False가 나올텐데 10이기 때문에 True가 나옴\n",
    "print(n * 100, n.__mul__(100))"
   ]
  },
  {
   "cell_type": "code",
   "execution_count": 8,
   "metadata": {},
   "outputs": [],
   "source": [
    "# 클래스 예제1\n",
    "class Fruit:\n",
    "    \"\"\"\n",
    "    Fruit Class 예제 만들기\n",
    "    Author : Kim\n",
    "    Date : 2022.07.11\n",
    "    Description : Class, Static, Instance Method\n",
    "    \"\"\"\n",
    "    def __init__(self, name, price):\n",
    "        self._name = name\n",
    "        self._price = price\n",
    "\n",
    "    def __str__(self): # !str method는 꼭 구현 해주기!!\n",
    "        return 'Fruit Class Info : {}, {}'.format(self._name, self._price)\n",
    "\n",
    "    def __add__(self, x): # ! 중급으로 가려면 반드시 알아야 됨.\n",
    "        print('called >> __add__, ', 'x._price : {}'.format(x._price))\n",
    "        return (self._price + x._price) * 0.8 # class 기반으로 \n",
    "\n",
    "    def __sub__(self, x):\n",
    "        print('Called >> __sub__')\n",
    "        return self._price - x._price\n",
    "\n",
    "    def __le__(self, x):\n",
    "        print('Called >> __le__')\n",
    "        if self._price <= x._price:\n",
    "            return True\n",
    "        else:\n",
    "            return False\n",
    "\n",
    "    def __ge__(self, x):\n",
    "        print('Called >> __ge__')\n",
    "        if self._price >= x._price:\n",
    "            return True\n",
    "        else:\n",
    "            return False"
   ]
  },
  {
   "cell_type": "code",
   "execution_count": 9,
   "metadata": {},
   "outputs": [],
   "source": [
    "# 인스턴스 생성\n",
    "s1 = Fruit('Orange', 7500)\n",
    "s2 = Fruit('Banana', 3000)"
   ]
  },
  {
   "cell_type": "code",
   "execution_count": 19,
   "metadata": {},
   "outputs": [
    {
     "name": "stdout",
     "output_type": "stream",
     "text": [
      "10500\n"
     ]
    }
   ],
   "source": [
    "print(s1._price + s2._price)"
   ]
  },
  {
   "cell_type": "code",
   "execution_count": 20,
   "metadata": {},
   "outputs": [
    {
     "name": "stdout",
     "output_type": "stream",
     "text": [
      "called >> __add__,  x._price : 3000\n"
     ]
    },
    {
     "data": {
      "text/plain": [
       "8400.0"
      ]
     },
     "execution_count": 20,
     "metadata": {},
     "output_type": "execute_result"
    }
   ],
   "source": [
    "s1.__add__(s2)"
   ]
  },
  {
   "cell_type": "code",
   "execution_count": 6,
   "metadata": {},
   "outputs": [
    {
     "name": "stdout",
     "output_type": "stream",
     "text": [
      "10500\n",
      "called __add__ x._price : 3000\n"
     ]
    },
    {
     "data": {
      "text/plain": [
       "8400.0"
      ]
     },
     "execution_count": 6,
     "metadata": {},
     "output_type": "execute_result"
    }
   ],
   "source": [
    "# 개구린 계산\n",
    "print(s1._price + s2._price)\n",
    "# 기가막힌 클래스를 사용한 계산 : 미리 만들어둔 인스턴스 메소드를 이용한다.\n",
    "s1.__add__(s2)"
   ]
  },
  {
   "cell_type": "code",
   "execution_count": 17,
   "metadata": {},
   "outputs": [
    {
     "name": "stdout",
     "output_type": "stream",
     "text": [
      "Called >> __ge__\n",
      "True\n",
      "Called >> __le__\n",
      "False\n",
      "Called >> __sub__\n",
      "4500\n",
      "Called >> __sub__\n",
      "-4500\n",
      "Fruit Class Info : Orange, 7500\n",
      "Fruit Class Info : Banana, 3000\n"
     ]
    }
   ],
   "source": [
    "# 매직메소드\n",
    "print(s1 >= s2)\n",
    "print(s1 <= s2)\n",
    "print(s1 - s2)\n",
    "print(s2 - s1)\n",
    "print(s1) # str method \n",
    "print(s2) # str method "
   ]
  },
  {
   "cell_type": "code",
   "execution_count": 20,
   "metadata": {},
   "outputs": [],
   "source": [
    "# 클래스 예제2\n",
    "# (5,2) + (4,3) = (9,5)\n",
    "# (10,3) * 5 = (50,15)\n",
    "# Max((5,10)) = 10\n",
    "\n",
    "class Vector(object):\n",
    "    \"\"\"\n",
    "    Create a vector, example : v = Vector(5,10)\n",
    "    \"\"\"\n",
    "    def __init__(self, *args): # ! *args 언패킹을 해주기 -> 세련된 방법. 잘 만든 소스보기\n",
    "        '''\n",
    "        Create a vector, example : v = Vector(5,10)\n",
    "        '''\n",
    "        if len(args) == 0:\n",
    "            self._x, self._y = 0, 0\n",
    "        else:\n",
    "            self._x, self._y = args\n",
    "\n",
    "    def __repr__(self):\n",
    "        '''Returns the imformation of the vector'''\n",
    "        return 'Vector({},{})'.format(self._x, self._y)\n",
    "\n",
    "    def __add__(self, other):\n",
    "        '''Return the vector addition of self and other'''\n",
    "        return Vector(self._x + other._x, self._y + other._y)\n",
    "\n",
    "    def __mul__(self, scalar):\n",
    "        '''Return the vector multiplication of self and scalar'''\n",
    "        return Vector(self._x * scalar, self._y * scalar)\n",
    "\n",
    "    def __bool__(self):\n",
    "        ''''''\n",
    "        return bool(max(self._x, self._y))"
   ]
  },
  {
   "cell_type": "code",
   "execution_count": 17,
   "metadata": {},
   "outputs": [
    {
     "name": "stdout",
     "output_type": "stream",
     "text": [
      "\n",
      "    Create a vector, example : v = Vector(5,10)\n",
      "    \n",
      "\n",
      "        Create a vector, example : v = Vector(5,10)\n",
      "        \n"
     ]
    }
   ],
   "source": [
    "print(Vector.__doc__)\n",
    "print(Vector.__init__.__doc__)"
   ]
  },
  {
   "cell_type": "code",
   "execution_count": 18,
   "metadata": {},
   "outputs": [],
   "source": [
    "# Vector 인스턴스 생성\n",
    "v1 = Vector(5,7)\n",
    "v2 = Vector(23,35)\n",
    "v3 = Vector()\n"
   ]
  },
  {
   "cell_type": "code",
   "execution_count": 19,
   "metadata": {},
   "outputs": [
    {
     "data": {
      "text/plain": [
       "Vector(0,0)-"
      ]
     },
     "execution_count": 19,
     "metadata": {},
     "output_type": "execute_result"
    }
   ],
   "source": [
    "v3"
   ]
  },
  {
   "cell_type": "code",
   "execution_count": 14,
   "metadata": {},
   "outputs": [
    {
     "ename": "AttributeError",
     "evalue": "'Vector' object has no attribute '__main__'",
     "output_type": "error",
     "traceback": [
      "\u001b[0;31m---------------------------------------------------------------------------\u001b[0m",
      "\u001b[0;31mAttributeError\u001b[0m                            Traceback (most recent call last)",
      "\u001b[1;32m/Users/hongb/Dropbox/Inflearn_Original/예제 소스 파일/Chap3.ipynb Cell 15'\u001b[0m in \u001b[0;36m<cell line: 1>\u001b[0;34m()\u001b[0m\n\u001b[0;32m----> <a href='vscode-notebook-cell:/Users/hongb/Dropbox/Inflearn_Original/%EC%98%88%EC%A0%9C%20%EC%86%8C%EC%8A%A4%20%ED%8C%8C%EC%9D%BC/Chap3.ipynb#ch0000018?line=0'>1</a>\u001b[0m v1\u001b[39m.\u001b[39;49m__main__()\n",
      "\u001b[0;31mAttributeError\u001b[0m: 'Vector' object has no attribute '__main__'"
     ]
    }
   ],
   "source": [
    "v1.__main__()"
   ]
  },
  {
   "cell_type": "code",
   "execution_count": 15,
   "metadata": {},
   "outputs": [
    {
     "data": {
      "text/plain": [
       "__main__.Vector"
      ]
     },
     "execution_count": 15,
     "metadata": {},
     "output_type": "execute_result"
    }
   ],
   "source": [
    "type(v1)"
   ]
  },
  {
   "cell_type": "markdown",
   "metadata": {},
   "source": []
  },
  {
   "cell_type": "code",
   "execution_count": 11,
   "metadata": {},
   "outputs": [
    {
     "data": {
      "text/plain": [
       "Vector(23,35)"
      ]
     },
     "execution_count": 11,
     "metadata": {},
     "output_type": "execute_result"
    }
   ],
   "source": [
    "v2"
   ]
  },
  {
   "cell_type": "code",
   "execution_count": null,
   "metadata": {},
   "outputs": [],
   "source": []
  }
 ],
 "metadata": {
  "interpreter": {
   "hash": "9132612d292018844046efb7d61620c385772bf99f2e53a3f7e93381535a3719"
  },
  "kernelspec": {
   "display_name": "Python 3.10.5 ('lab')",
   "language": "python",
   "name": "python3"
  },
  "language_info": {
   "codemirror_mode": {
    "name": "ipython",
    "version": 3
   },
   "file_extension": ".py",
   "mimetype": "text/x-python",
   "name": "python",
   "nbconvert_exporter": "python",
   "pygments_lexer": "ipython3",
   "version": "3.10.5"
  },
  "orig_nbformat": 4
 },
 "nbformat": 4,
 "nbformat_minor": 2
}
