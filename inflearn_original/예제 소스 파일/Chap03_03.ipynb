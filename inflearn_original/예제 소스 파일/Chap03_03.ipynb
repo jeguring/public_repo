{
 "cells": [
  {
   "cell_type": "markdown",
   "metadata": {},
   "source": [
    "# Chapter03-03\n",
    "- 파이썬 심화\n",
    "- 데이터 모델(Data Model)\n",
    "- 참조 : https://docs.python.org/3/reference/datamodel.html\n",
    "- Namedtuple 실습\n",
    "- 파이썬의 중요한 핵심 프레임워크 -> 시퀀스(Sequence), 반복(Iterator), 함수(Functions), 클래스(Class)\n",
    "\n",
    "- 객체 -> 파이썬의 데이터를 추상화\n",
    "- 모든 객체 -> id, type -> value"
   ]
  },
  {
   "cell_type": "code",
   "execution_count": 9,
   "metadata": {},
   "outputs": [
    {
     "name": "stdout",
     "output_type": "stream",
     "text": [
      "3.8078865529319543\n"
     ]
    }
   ],
   "source": [
    "# 일반적인 튜플 사용\n",
    "pt1 = (1.0, 5.0)\n",
    "pt2 = (2.5, 1.5)\n",
    "\n",
    "from math import sqrt\n",
    "\n",
    "l_leng1 = sqrt((pt1[0] - pt2[0]) ** 2 + (pt1[1] - pt2[1]) ** 2)\n",
    "print(l_leng1)"
   ]
  },
  {
   "cell_type": "code",
   "execution_count": 15,
   "metadata": {},
   "outputs": [],
   "source": [
    "# 네임드 튜플 사용 : 클래식 형식으로 튜플을 추상화하고있음\n",
    "from collections import namedtuple\n",
    "\n",
    "# 네임드 튜플 선언\n",
    "Point = namedtuple(\"Point\", 'x y')\n",
    "\n",
    "pt3 = Point(1.0, 5.0)\n",
    "pt4 = Point(2.5, 1.5)"
   ]
  },
  {
   "cell_type": "code",
   "execution_count": 18,
   "metadata": {},
   "outputs": [
    {
     "name": "stdout",
     "output_type": "stream",
     "text": [
      "Point(x=1.0, y=5.0)\n",
      "1.0\n",
      "1.0\n",
      "Point(x=2.5, y=1.5)\n"
     ]
    }
   ],
   "source": [
    "print(pt3)\n",
    "print(pt3[0])\n",
    "print(pt3.x)\n",
    "print(pt4)"
   ]
  },
  {
   "cell_type": "code",
   "execution_count": 23,
   "metadata": {},
   "outputs": [
    {
     "name": "stdout",
     "output_type": "stream",
     "text": [
      "3.8078865529319543\n"
     ]
    }
   ],
   "source": [
    "l_leng2 = sqrt((pt3.x - pt4.x) ** 2 + (pt3.y - pt4.y) ** 2)\n",
    "print(l_leng2)"
   ]
  },
  {
   "cell_type": "code",
   "execution_count": 33,
   "metadata": {},
   "outputs": [
    {
     "name": "stdout",
     "output_type": "stream",
     "text": [
      "<class '__main__.Point'> <class '__main__.Point'> <class '__main__.Point'> <class '__main__.Point'>\n"
     ]
    }
   ],
   "source": [
    "# 네임드 튜플 선언 방법\n",
    "Point1 = namedtuple('Point', ['x', 'y'])\n",
    "Point2 = namedtuple('Point', 'x, y')\n",
    "Point3 = namedtuple('Point', 'x y')\n",
    "Point4 = namedtuple('Point', 'x y x class', rename=True) # Default=False\n",
    "\n",
    "# 출력\n",
    "print(Point1, Point2, Point3, Point4)\n"
   ]
  },
  {
   "cell_type": "code",
   "execution_count": 40,
   "metadata": {},
   "outputs": [],
   "source": [
    "# Dict to Unpacking\n",
    "temp_dict = {'x':75, 'y':55}"
   ]
  },
  {
   "cell_type": "code",
   "execution_count": 47,
   "metadata": {},
   "outputs": [],
   "source": [
    "# 객체 생성\n",
    "p1 = Point1(x=10, y=35) # x는 x로 맵핑되고, y는 y로 맵핑됨\n",
    "p2 = Point2(20, 40)\n",
    "p3 = Point3(45, y=20)\n",
    "p4 = Point4(10, 20, 30, 40)\n",
    "p5 = Point2(**temp_dict)"
   ]
  },
  {
   "cell_type": "code",
   "execution_count": 48,
   "metadata": {},
   "outputs": [
    {
     "name": "stdout",
     "output_type": "stream",
     "text": [
      "Point(x=10, y=35) Point(x=20, y=40) Point(x=45, y=20) Point(x=10, y=20, _2=30, _3=40) Point(x=75, y=55)\n"
     ]
    }
   ],
   "source": [
    "print(p1, p2, p3, p4, p5)"
   ]
  },
  {
   "cell_type": "code",
   "execution_count": 50,
   "metadata": {},
   "outputs": [
    {
     "name": "stdout",
     "output_type": "stream",
     "text": [
      "50\n",
      "50\n",
      "45 20\n"
     ]
    }
   ],
   "source": [
    "# 사용\n",
    "print(p1[0] + p2[1])\n",
    "print(p1.x + p2.y) # 키로 접근하는 게 더 좋음\n",
    "\n",
    "x, y = p3\n",
    "print(x, y)"
   ]
  },
  {
   "cell_type": "code",
   "execution_count": 56,
   "metadata": {},
   "outputs": [
    {
     "name": "stdout",
     "output_type": "stream",
     "text": [
      "Point(x=52, y=38)\n",
      "('x', 'y') ('x', 'y') ('x', 'y')\n",
      "{'x': 10, 'y': 35}\n",
      "{'x': 52, 'y': 38}\n"
     ]
    }
   ],
   "source": [
    "# 네임드 튜플 메소드\n",
    "temp = [52, 38]\n",
    "'''_make() : list를 기반으로 새로운 객체 생성(namedtuple로 캐스팅)'''\n",
    "p4 = Point1._make(temp)\n",
    "print(p4)\n",
    "\n",
    "'''_fields : 필드 네임 확인'''\n",
    "print(p1._fields, p2._fields, p3._fields)\n",
    "\n",
    "'''_asdict() : OrderedDict 반환, namedtuple을 dictionary로'''\n",
    "print(p1._asdict())\n",
    "print(p4._asdict())"
   ]
  },
  {
   "cell_type": "code",
   "execution_count": 57,
   "metadata": {},
   "outputs": [],
   "source": [
    "# 실사용 실습\n",
    "# 반20명, 4개의 반(A, B, C, D)\n",
    "\n",
    "Classes = namedtuple('Classes', ['rank', 'number'])"
   ]
  },
  {
   "cell_type": "code",
   "execution_count": 62,
   "metadata": {},
   "outputs": [
    {
     "name": "stdout",
     "output_type": "stream",
     "text": [
      "['1', '2', '3', '4', '5', '6', '7', '8', '9', '10', '11', '12', '13', '14', '15', '16', '17', '18', '19', '20'] ['A', 'B', 'C', 'D']\n"
     ]
    }
   ],
   "source": [
    "# 그룹 리스트 선언 \n",
    "numbers = [str(n) for n in range(1, 21)]\n",
    "ranks = 'A B C D'.split( )\n",
    "print(numbers, ranks)\n",
    "Class1 = Classes(1, numbers)"
   ]
  },
  {
   "cell_type": "code",
   "execution_count": 64,
   "metadata": {},
   "outputs": [
    {
     "data": {
      "text/plain": [
       "Classes(rank=1, number=['1', '2', '3', '4', '5', '6', '7', '8', '9', '10', '11', '12', '13', '14', '15', '16', '17', '18', '19', '20'])"
      ]
     },
     "execution_count": 64,
     "metadata": {},
     "output_type": "execute_result"
    }
   ],
   "source": [
    "Class1"
   ]
  },
  {
   "cell_type": "code",
   "execution_count": 65,
   "metadata": {},
   "outputs": [],
   "source": [
    "# List Comprehension\n",
    "students = [Classes(rank, number) for rank in ranks for number in numbers]"
   ]
  },
  {
   "cell_type": "code",
   "execution_count": 70,
   "metadata": {},
   "outputs": [
    {
     "name": "stdout",
     "output_type": "stream",
     "text": [
      "80\n",
      "[Classes(rank='A', number='1'), Classes(rank='A', number='2'), Classes(rank='A', number='3'), Classes(rank='A', number='4'), Classes(rank='A', number='5'), Classes(rank='A', number='6'), Classes(rank='A', number='7'), Classes(rank='A', number='8'), Classes(rank='A', number='9'), Classes(rank='A', number='10'), Classes(rank='A', number='11'), Classes(rank='A', number='12'), Classes(rank='A', number='13'), Classes(rank='A', number='14'), Classes(rank='A', number='15'), Classes(rank='A', number='16'), Classes(rank='A', number='17'), Classes(rank='A', number='18'), Classes(rank='A', number='19'), Classes(rank='A', number='20'), Classes(rank='B', number='1'), Classes(rank='B', number='2'), Classes(rank='B', number='3'), Classes(rank='B', number='4'), Classes(rank='B', number='5'), Classes(rank='B', number='6'), Classes(rank='B', number='7'), Classes(rank='B', number='8'), Classes(rank='B', number='9'), Classes(rank='B', number='10'), Classes(rank='B', number='11'), Classes(rank='B', number='12'), Classes(rank='B', number='13'), Classes(rank='B', number='14'), Classes(rank='B', number='15'), Classes(rank='B', number='16'), Classes(rank='B', number='17'), Classes(rank='B', number='18'), Classes(rank='B', number='19'), Classes(rank='B', number='20'), Classes(rank='C', number='1'), Classes(rank='C', number='2'), Classes(rank='C', number='3'), Classes(rank='C', number='4'), Classes(rank='C', number='5'), Classes(rank='C', number='6'), Classes(rank='C', number='7'), Classes(rank='C', number='8'), Classes(rank='C', number='9'), Classes(rank='C', number='10'), Classes(rank='C', number='11'), Classes(rank='C', number='12'), Classes(rank='C', number='13'), Classes(rank='C', number='14'), Classes(rank='C', number='15'), Classes(rank='C', number='16'), Classes(rank='C', number='17'), Classes(rank='C', number='18'), Classes(rank='C', number='19'), Classes(rank='C', number='20'), Classes(rank='D', number='1'), Classes(rank='D', number='2'), Classes(rank='D', number='3'), Classes(rank='D', number='4'), Classes(rank='D', number='5'), Classes(rank='D', number='6'), Classes(rank='D', number='7'), Classes(rank='D', number='8'), Classes(rank='D', number='9'), Classes(rank='D', number='10'), Classes(rank='D', number='11'), Classes(rank='D', number='12'), Classes(rank='D', number='13'), Classes(rank='D', number='14'), Classes(rank='D', number='15'), Classes(rank='D', number='16'), Classes(rank='D', number='17'), Classes(rank='D', number='18'), Classes(rank='D', number='19'), Classes(rank='D', number='20')]\n"
     ]
    }
   ],
   "source": [
    "print(len(students))\n",
    "print(students)"
   ]
  },
  {
   "cell_type": "code",
   "execution_count": 71,
   "metadata": {},
   "outputs": [],
   "source": [
    "# 추천\n",
    "students = [Classes(rank, number)\n",
    "    for rank in 'A B C D'.split()\n",
    "        for number in [str(n)\n",
    "            for n in range(1, 21)]]"
   ]
  },
  {
   "cell_type": "code",
   "execution_count": 72,
   "metadata": {},
   "outputs": [
    {
     "data": {
      "text/plain": [
       "[Classes(rank='A', number='1'),\n",
       " Classes(rank='A', number='2'),\n",
       " Classes(rank='A', number='3'),\n",
       " Classes(rank='A', number='4'),\n",
       " Classes(rank='A', number='5'),\n",
       " Classes(rank='A', number='6'),\n",
       " Classes(rank='A', number='7'),\n",
       " Classes(rank='A', number='8'),\n",
       " Classes(rank='A', number='9'),\n",
       " Classes(rank='A', number='10'),\n",
       " Classes(rank='A', number='11'),\n",
       " Classes(rank='A', number='12'),\n",
       " Classes(rank='A', number='13'),\n",
       " Classes(rank='A', number='14'),\n",
       " Classes(rank='A', number='15'),\n",
       " Classes(rank='A', number='16'),\n",
       " Classes(rank='A', number='17'),\n",
       " Classes(rank='A', number='18'),\n",
       " Classes(rank='A', number='19'),\n",
       " Classes(rank='A', number='20'),\n",
       " Classes(rank='B', number='1'),\n",
       " Classes(rank='B', number='2'),\n",
       " Classes(rank='B', number='3'),\n",
       " Classes(rank='B', number='4'),\n",
       " Classes(rank='B', number='5'),\n",
       " Classes(rank='B', number='6'),\n",
       " Classes(rank='B', number='7'),\n",
       " Classes(rank='B', number='8'),\n",
       " Classes(rank='B', number='9'),\n",
       " Classes(rank='B', number='10'),\n",
       " Classes(rank='B', number='11'),\n",
       " Classes(rank='B', number='12'),\n",
       " Classes(rank='B', number='13'),\n",
       " Classes(rank='B', number='14'),\n",
       " Classes(rank='B', number='15'),\n",
       " Classes(rank='B', number='16'),\n",
       " Classes(rank='B', number='17'),\n",
       " Classes(rank='B', number='18'),\n",
       " Classes(rank='B', number='19'),\n",
       " Classes(rank='B', number='20'),\n",
       " Classes(rank='C', number='1'),\n",
       " Classes(rank='C', number='2'),\n",
       " Classes(rank='C', number='3'),\n",
       " Classes(rank='C', number='4'),\n",
       " Classes(rank='C', number='5'),\n",
       " Classes(rank='C', number='6'),\n",
       " Classes(rank='C', number='7'),\n",
       " Classes(rank='C', number='8'),\n",
       " Classes(rank='C', number='9'),\n",
       " Classes(rank='C', number='10'),\n",
       " Classes(rank='C', number='11'),\n",
       " Classes(rank='C', number='12'),\n",
       " Classes(rank='C', number='13'),\n",
       " Classes(rank='C', number='14'),\n",
       " Classes(rank='C', number='15'),\n",
       " Classes(rank='C', number='16'),\n",
       " Classes(rank='C', number='17'),\n",
       " Classes(rank='C', number='18'),\n",
       " Classes(rank='C', number='19'),\n",
       " Classes(rank='C', number='20'),\n",
       " Classes(rank='D', number='1'),\n",
       " Classes(rank='D', number='2'),\n",
       " Classes(rank='D', number='3'),\n",
       " Classes(rank='D', number='4'),\n",
       " Classes(rank='D', number='5'),\n",
       " Classes(rank='D', number='6'),\n",
       " Classes(rank='D', number='7'),\n",
       " Classes(rank='D', number='8'),\n",
       " Classes(rank='D', number='9'),\n",
       " Classes(rank='D', number='10'),\n",
       " Classes(rank='D', number='11'),\n",
       " Classes(rank='D', number='12'),\n",
       " Classes(rank='D', number='13'),\n",
       " Classes(rank='D', number='14'),\n",
       " Classes(rank='D', number='15'),\n",
       " Classes(rank='D', number='16'),\n",
       " Classes(rank='D', number='17'),\n",
       " Classes(rank='D', number='18'),\n",
       " Classes(rank='D', number='19'),\n",
       " Classes(rank='D', number='20')]"
      ]
     },
     "execution_count": 72,
     "metadata": {},
     "output_type": "execute_result"
    }
   ],
   "source": [
    "students"
   ]
  },
  {
   "cell_type": "markdown",
   "metadata": {},
   "source": []
  },
  {
   "cell_type": "code",
   "execution_count": 73,
   "metadata": {},
   "outputs": [
    {
     "name": "stdout",
     "output_type": "stream",
     "text": [
      "Classes(rank='A', number='1')\n",
      "Classes(rank='A', number='2')\n",
      "Classes(rank='A', number='3')\n",
      "Classes(rank='A', number='4')\n",
      "Classes(rank='A', number='5')\n",
      "Classes(rank='A', number='6')\n",
      "Classes(rank='A', number='7')\n",
      "Classes(rank='A', number='8')\n",
      "Classes(rank='A', number='9')\n",
      "Classes(rank='A', number='10')\n",
      "Classes(rank='A', number='11')\n",
      "Classes(rank='A', number='12')\n",
      "Classes(rank='A', number='13')\n",
      "Classes(rank='A', number='14')\n",
      "Classes(rank='A', number='15')\n",
      "Classes(rank='A', number='16')\n",
      "Classes(rank='A', number='17')\n",
      "Classes(rank='A', number='18')\n",
      "Classes(rank='A', number='19')\n",
      "Classes(rank='A', number='20')\n",
      "Classes(rank='B', number='1')\n",
      "Classes(rank='B', number='2')\n",
      "Classes(rank='B', number='3')\n",
      "Classes(rank='B', number='4')\n",
      "Classes(rank='B', number='5')\n",
      "Classes(rank='B', number='6')\n",
      "Classes(rank='B', number='7')\n",
      "Classes(rank='B', number='8')\n",
      "Classes(rank='B', number='9')\n",
      "Classes(rank='B', number='10')\n",
      "Classes(rank='B', number='11')\n",
      "Classes(rank='B', number='12')\n",
      "Classes(rank='B', number='13')\n",
      "Classes(rank='B', number='14')\n",
      "Classes(rank='B', number='15')\n",
      "Classes(rank='B', number='16')\n",
      "Classes(rank='B', number='17')\n",
      "Classes(rank='B', number='18')\n",
      "Classes(rank='B', number='19')\n",
      "Classes(rank='B', number='20')\n",
      "Classes(rank='C', number='1')\n",
      "Classes(rank='C', number='2')\n",
      "Classes(rank='C', number='3')\n",
      "Classes(rank='C', number='4')\n",
      "Classes(rank='C', number='5')\n",
      "Classes(rank='C', number='6')\n",
      "Classes(rank='C', number='7')\n",
      "Classes(rank='C', number='8')\n",
      "Classes(rank='C', number='9')\n",
      "Classes(rank='C', number='10')\n",
      "Classes(rank='C', number='11')\n",
      "Classes(rank='C', number='12')\n",
      "Classes(rank='C', number='13')\n",
      "Classes(rank='C', number='14')\n",
      "Classes(rank='C', number='15')\n",
      "Classes(rank='C', number='16')\n",
      "Classes(rank='C', number='17')\n",
      "Classes(rank='C', number='18')\n",
      "Classes(rank='C', number='19')\n",
      "Classes(rank='C', number='20')\n",
      "Classes(rank='D', number='1')\n",
      "Classes(rank='D', number='2')\n",
      "Classes(rank='D', number='3')\n",
      "Classes(rank='D', number='4')\n",
      "Classes(rank='D', number='5')\n",
      "Classes(rank='D', number='6')\n",
      "Classes(rank='D', number='7')\n",
      "Classes(rank='D', number='8')\n",
      "Classes(rank='D', number='9')\n",
      "Classes(rank='D', number='10')\n",
      "Classes(rank='D', number='11')\n",
      "Classes(rank='D', number='12')\n",
      "Classes(rank='D', number='13')\n",
      "Classes(rank='D', number='14')\n",
      "Classes(rank='D', number='15')\n",
      "Classes(rank='D', number='16')\n",
      "Classes(rank='D', number='17')\n",
      "Classes(rank='D', number='18')\n",
      "Classes(rank='D', number='19')\n",
      "Classes(rank='D', number='20')\n"
     ]
    }
   ],
   "source": [
    "for s in students:\n",
    "    print(s)"
   ]
  },
  {
   "cell_type": "code",
   "execution_count": null,
   "metadata": {},
   "outputs": [],
   "source": []
  }
 ],
 "metadata": {
  "kernelspec": {
   "display_name": "Python 3.9.1 64-bit ('3.9.1')",
   "language": "python",
   "name": "python3"
  },
  "language_info": {
   "codemirror_mode": {
    "name": "ipython",
    "version": 3
   },
   "file_extension": ".py",
   "mimetype": "text/x-python",
   "name": "python",
   "nbconvert_exporter": "python",
   "pygments_lexer": "ipython3",
   "version": "3.9.1"
  },
  "orig_nbformat": 4,
  "vscode": {
   "interpreter": {
    "hash": "1688da3634d91066dd3ff12b743053dfee9eea8177f464778dec1bcb0ebd64e6"
   }
  }
 },
 "nbformat": 4,
 "nbformat_minor": 2
}
